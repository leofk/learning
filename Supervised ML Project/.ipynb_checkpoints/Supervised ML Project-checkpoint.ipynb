{
 "cells": [
  {
   "cell_type": "code",
   "execution_count": 1,
   "metadata": {
    "deletable": false,
    "editable": false
   },
   "outputs": [],
   "source": [
    "# Initialize Otter\n",
    "import otter\n",
    "grader = otter.Notebook(\"hw5.ipynb\")"
   ]
  },
  {
   "cell_type": "markdown",
   "metadata": {
    "tags": []
   },
   "source": [
    "# CPSC 330 - Applied Machine Learning \n",
    "\n",
    "## Homework 5: Putting it all together \n",
    "### Associated lectures: All material till lecture 13 \n",
    "\n",
    "**Due date: See the [Calendar](https://htmlpreview.github.io/?https://github.com/UBC-CS/cpsc330/blob/master/docs/calendar.html).**"
   ]
  },
  {
   "cell_type": "markdown",
   "metadata": {},
   "source": [
    "## Table of contents\n",
    "0. [Submission instructions](#si)\n",
    "1. [Understanding the problem](#1)\n",
    "2. [Data splitting](#2)\n",
    "3. [EDA](#3)\n",
    "4. (Optional) [Feature engineering](#4)\n",
    "5. [Preprocessing and transformations](#5) \n",
    "6. [Baseline model](#6)\n",
    "7. [Linear models](#7)\n",
    "8. [Different models](#8)\n",
    "9. (Optional) [Feature selection](#9)\n",
    "10. [Hyperparameter optimization](#10)\n",
    "11. [Interpretation and feature importances](#11) \n",
    "12. [Results on the test set](#12)\n",
    "13. [Summary of the results](#13)\n",
    "14. (Optional) [Your takeaway from the course](#15)"
   ]
  },
  {
   "cell_type": "markdown",
   "metadata": {},
   "source": [
    "## Submission instructions <a name=\"si\"></a>\n",
    "<hr>\n",
    "rubric={points:4}\n",
    "\n",
    "You will receive marks for correctly submitting this assignment. To submit this assignment, follow the instructions below:\n",
    "\n",
    "- **You may work on this assignment in a group (group size <= 4) and submit your assignment as a group.** \n",
    "- Below are some instructions on working as a group.  \n",
    "    - The maximum group size is 4. \n",
    "    - You can choose your own group members. \n",
    "    - Use group work as an opportunity to collaborate and learn new things from each other. \n",
    "    - Be respectful to each other and make sure you understand all the concepts in the assignment well. \n",
    "    - It's your responsibility to make sure that the assignment is submitted by one of the group members before the deadline. [Here](https://help.gradescope.com/article/m5qz2xsnjy-student-add-group-members) are some instructions on adding group members in Gradescope.  \n",
    "- Be sure to follow the [general lab instructions](https://ubc-mds.github.io/resources_pages/general_lab_instructions/).\n",
    "- Upload the .ipynb file to Gradescope.\n",
    "- **If the .ipynb file is too big or doesn't render on Gradescope for some reason, also upload a pdf or html in addition to the .ipynb.** \n",
    "- Make sure that your plots/output are rendered properly in Gradescope."
   ]
  },
  {
   "cell_type": "markdown",
   "metadata": {},
   "source": [
    "## Summary of Our Results \n",
    "__Final Test Score__: `0.82` \n",
    "\n",
    "__Metric Used__ : Accuracy"
   ]
  },
  {
   "cell_type": "markdown",
   "metadata": {},
   "source": [
    "## Imports"
   ]
  },
  {
   "cell_type": "code",
   "execution_count": 2,
   "metadata": {},
   "outputs": [],
   "source": [
    "import os\n",
    "\n",
    "%matplotlib inline\n",
    "import string\n",
    "import sys\n",
    "\n",
    "import matplotlib.pyplot as plt\n",
    "import numpy as np\n",
    "import pandas as pd\n",
    "\n",
    "from lightgbm.sklearn import LGBMClassifier\n",
    "\n",
    "from sklearn.dummy import DummyClassifier\n",
    "from sklearn.feature_extraction.text import CountVectorizer\n",
    "from sklearn.linear_model import LogisticRegression\n",
    "from sklearn.model_selection import (\n",
    "    GridSearchCV,\n",
    "    RandomizedSearchCV,\n",
    "    cross_val_score,\n",
    "    cross_validate,\n",
    "    train_test_split,\n",
    ")\n",
    "from sklearn.pipeline import Pipeline, make_pipeline\n",
    "from sklearn.tree import DecisionTreeClassifier\n",
    "from sklearn.compose import make_column_transformer\n",
    "from sklearn.preprocessing import OneHotEncoder, OrdinalEncoder, StandardScaler\n",
    "from sklearn.svm import SVC\n",
    "from sklearn.neighbors import KNeighborsClassifier\n",
    "\n"
   ]
  },
  {
   "cell_type": "markdown",
   "metadata": {},
   "source": [
    "## Introduction <a name=\"in\"></a>\n",
    "\n",
    "In this homework you will be working on an open-ended mini-project, where you will put all the different things you have learned so far together to solve an interesting problem.\n",
    "\n",
    "A few notes and tips when you work on this mini-project: \n",
    "\n",
    "#### Tips\n",
    "1. This mini-project is open-ended, and while working on it, there might be some situations where you'll have to use your own judgment and make your own decisions (as you would be doing when you work as a data scientist). Make sure you explain your decisions whenever necessary. \n",
    "2. **Do not include everything you ever tried in your submission** -- it's fine just to have your final code. That said, your code should be reproducible and well-documented. For example, if you chose your hyperparameters based on some hyperparameter optimization experiment, you should leave in the code for that experiment so that someone else could re-run it and obtain the same hyperparameters, rather than mysteriously just setting the hyperparameters to some (carefully chosen) values in your code. \n",
    "3. If you realize that you are repeating a lot of code try to organize it in functions. Clear presentation of your code, experiments, and results is the key to be successful in this lab. You may use code from lecture notes or previous lab solutions with appropriate attributions. \n",
    "\n",
    "#### Assessment\n",
    "We plan to grade fairly and leniently. We don't have some secret target score that you need to achieve to get a good grade. **You'll be assessed on demonstration of mastery of course topics, clear presentation, and the quality of your analysis and results.** For example, if you just have a bunch of code and no text or figures, that's not good. If you do a bunch of sane things and get a lower accuracy than your friend, don't sweat it.\n",
    "\n",
    "\n",
    "#### A final note\n",
    "Finally, this style of this \"project\" question is different from other assignments. It'll be up to you to decide when you're \"done\" -- in fact, this is one of the hardest parts of real projects. But please don't spend WAY too much time on this... perhaps \"a few hours\" (15-20 hours???) is a good guideline for this project . Of course if you're having fun you're welcome to spend as much time as you want! But, if so, try not to do it out of perfectionism or getting the best possible grade. Do it because you're learning and enjoying it. Students from the past cohorts have found such kind of labs useful and fun and I hope you enjoy it as well. "
   ]
  },
  {
   "cell_type": "markdown",
   "metadata": {},
   "source": [
    "<br><br>"
   ]
  },
  {
   "cell_type": "markdown",
   "metadata": {},
   "source": [
    "<!-- BEGIN QUESTION -->\n",
    "\n",
    "## 1. Pick your problem and explain the prediction problem <a name=\"1\"></a>\n",
    "<hr>\n",
    "rubric={points:3}\n",
    "\n",
    "In this mini project, you will be working on a classification problem of predicting whether a credit card client will default or not. \n",
    "For this problem, you will use [Default of Credit Card Clients Dataset](https://www.kaggle.com/uciml/default-of-credit-card-clients-dataset). In this data set, there are 30,000 examples and 24 features, and the goal is to estimate whether a person will default (fail to pay) their credit card bills; this column is labeled \"default.payment.next.month\" in the data. The rest of the columns can be used as features. You may take some ideas and compare your results with [the associated research paper](https://www.sciencedirect.com/science/article/pii/S0957417407006719), which is available through [the UBC library](https://www.library.ubc.ca/). \n",
    "\n",
    "**Your tasks:**\n",
    "\n",
    "1. Spend some time understanding the problem and what each feature means. You can find this information in the documentation on [the dataset page on Kaggle](https://www.kaggle.com/uciml/default-of-credit-card-clients-dataset). Write a few sentences on your initial thoughts on the problem and the dataset. \n",
    "2. Download the dataset and read it as a pandas dataframe. "
   ]
  },
  {
   "cell_type": "markdown",
   "metadata": {},
   "source": [
    "<div class=\"alert alert-warning\">\n",
    "    \n",
    "Solution_1\n",
    "    \n",
    "</div>"
   ]
  },
  {
   "cell_type": "markdown",
   "metadata": {},
   "source": [
    "The dataset provides information on 30,000 credit card clients with regards to their __demographic information__ (sex, age, education level, marital status), __credit information__ (credit limit), __history of payment data__ (repayment status for the months of April - September, and previous payment amount for the months of April - September), and __bill statement data__ (statement balance for the months of April - September).\n",
    "\n",
    "Using this information about the credit card clients, the aim is to predict whether the client will default their credit card bills. The target is categorical (with a 1 meaning the client will default, and a 0 meaning the client will not), meaning that this is a __classification problem__.\n",
    "\n",
    "__Features__: There are 23 features in the dataset that can be leveraged to predict the target,  __\"default.payment.next.month\"__. Here is a table of all the features, their interpretations, and their types :\n",
    "\n",
    "| Feature     | Description                                                   | Feature Type  |\n",
    "| ----------- | ------------------------------------------------------------- | ------------- |\n",
    "| ID          | Unique index for each person's entry (similar to index)       | Numerical     |\n",
    "| LIMIT_BAL   | Credit limit in New Taiwan (NT) dollars                       | Numerical     |\n",
    "| SEX         | Person's sex (1=male; 2 = female)                             | Nominal -Categorical|\n",
    "| EDUCATION   | Person's level of education (1 = graduate school; 2 = university; 3 = high school; 4 = others, 5=unknown, 6=unknown) | Ordinal|\n",
    "| MARRIAGE    | Person's marital status ((1 = married; 2 = single; 3 = others)| Nominal - Categorical|\n",
    "| AGE         | Person's age (year they were born)                            | Numeric              | \n",
    "| PAY_0       | Repayment status in September, 2005 (-1 = pay duly, 1=p 1 month payment delay, 2= 2 month payment delay, etc.)|Nominal - Categorical|\n",
    "| PAY_2       | Repayment status in August, 2005                           |Nominal - Categorical|\n",
    "| PAY_3       | Repayment status in July, 2005                             |Nominal - Categorical|\n",
    "| PAY_4       | Repayment status in June, 2005                             |Nominal - Categorical|\n",
    "| PAY_5       | Repayment status in May, 2005                              |Nominal - Categorical|\n",
    "| PAY_6       | Repayment status in April, 2005                            |Nominal - Categorical|\n",
    "| BILL_AMT1   | Amount of bill statement in September, 2005 (NT dollar)    |Numerical            |\n",
    "| BILL_AMT2   | Amount of bill statement in August, 2005 (NT dollar)       |Numerical            |\n",
    "| BILL_AMT3   | Amount of bill statement in July, 2005 (NT dollar)         |Numerical            |\n",
    "| BILL_AMT4   | Amount of bill statement in June, 2005 (NT dollar)         |Numerical            |\n",
    "| BILL_AMT5   | Amount of bill statement in May, 2005 (NT dollar)          |Numerical            |\n",
    "| BILL_AMT6   | Amount of bill statement in April, 2005 (NT dollar)        |Numerical            |\n",
    "| PAY_AMT1    | Amount of previous payment in September, 2005 (NT dollar)  |Numerical            |\n",
    "| PAY_AMT2    | Amount of previous payment in August, 2005 (NT dollar)  |Numerical            |\n",
    "| PAY_AMT3    | Amount of previous payment in July, 2005 (NT dollar)  |Numerical            |\n",
    "| PAY_AMT4    | Amount of previous payment in June, 2005 (NT dollar)  |Numerical            |\n",
    "| PAY_AMT5    | Amount of previous payment in May, 2005 (NT dollar)  |Numerical            |\n",
    "| PAY_AMT6    | Amount of previous payment in April, 2005 (NT dollar)  |Numerical            |\n",
    "\n",
    "__Target__:\n",
    "\n",
    "|Target                  | Description                                                 | Feature Type  |\n",
    "|-------------------------|-------------------------------------------------------------| ------------- |\n",
    "|default.payment.next.month|  Default payment (1=yes, 0=no)                             | Categorical   |"
   ]
  },
  {
   "cell_type": "code",
   "execution_count": 3,
   "metadata": {
    "collapsed": false,
    "jupyter": {
     "outputs_hidden": false
    }
   },
   "outputs": [
    {
     "data": {
      "text/html": [
       "<div>\n",
       "<style scoped>\n",
       "    .dataframe tbody tr th:only-of-type {\n",
       "        vertical-align: middle;\n",
       "    }\n",
       "\n",
       "    .dataframe tbody tr th {\n",
       "        vertical-align: top;\n",
       "    }\n",
       "\n",
       "    .dataframe thead th {\n",
       "        text-align: right;\n",
       "    }\n",
       "</style>\n",
       "<table border=\"1\" class=\"dataframe\">\n",
       "  <thead>\n",
       "    <tr style=\"text-align: right;\">\n",
       "      <th></th>\n",
       "      <th>ID</th>\n",
       "      <th>LIMIT_BAL</th>\n",
       "      <th>SEX</th>\n",
       "      <th>EDUCATION</th>\n",
       "      <th>MARRIAGE</th>\n",
       "      <th>AGE</th>\n",
       "      <th>PAY_0</th>\n",
       "      <th>PAY_2</th>\n",
       "      <th>PAY_3</th>\n",
       "      <th>PAY_4</th>\n",
       "      <th>...</th>\n",
       "      <th>BILL_AMT4</th>\n",
       "      <th>BILL_AMT5</th>\n",
       "      <th>BILL_AMT6</th>\n",
       "      <th>PAY_AMT1</th>\n",
       "      <th>PAY_AMT2</th>\n",
       "      <th>PAY_AMT3</th>\n",
       "      <th>PAY_AMT4</th>\n",
       "      <th>PAY_AMT5</th>\n",
       "      <th>PAY_AMT6</th>\n",
       "      <th>default.payment.next.month</th>\n",
       "    </tr>\n",
       "  </thead>\n",
       "  <tbody>\n",
       "    <tr>\n",
       "      <th>0</th>\n",
       "      <td>1</td>\n",
       "      <td>20000.0</td>\n",
       "      <td>2</td>\n",
       "      <td>2</td>\n",
       "      <td>1</td>\n",
       "      <td>24</td>\n",
       "      <td>2</td>\n",
       "      <td>2</td>\n",
       "      <td>-1</td>\n",
       "      <td>-1</td>\n",
       "      <td>...</td>\n",
       "      <td>0.0</td>\n",
       "      <td>0.0</td>\n",
       "      <td>0.0</td>\n",
       "      <td>0.0</td>\n",
       "      <td>689.0</td>\n",
       "      <td>0.0</td>\n",
       "      <td>0.0</td>\n",
       "      <td>0.0</td>\n",
       "      <td>0.0</td>\n",
       "      <td>1</td>\n",
       "    </tr>\n",
       "    <tr>\n",
       "      <th>1</th>\n",
       "      <td>2</td>\n",
       "      <td>120000.0</td>\n",
       "      <td>2</td>\n",
       "      <td>2</td>\n",
       "      <td>2</td>\n",
       "      <td>26</td>\n",
       "      <td>-1</td>\n",
       "      <td>2</td>\n",
       "      <td>0</td>\n",
       "      <td>0</td>\n",
       "      <td>...</td>\n",
       "      <td>3272.0</td>\n",
       "      <td>3455.0</td>\n",
       "      <td>3261.0</td>\n",
       "      <td>0.0</td>\n",
       "      <td>1000.0</td>\n",
       "      <td>1000.0</td>\n",
       "      <td>1000.0</td>\n",
       "      <td>0.0</td>\n",
       "      <td>2000.0</td>\n",
       "      <td>1</td>\n",
       "    </tr>\n",
       "    <tr>\n",
       "      <th>2</th>\n",
       "      <td>3</td>\n",
       "      <td>90000.0</td>\n",
       "      <td>2</td>\n",
       "      <td>2</td>\n",
       "      <td>2</td>\n",
       "      <td>34</td>\n",
       "      <td>0</td>\n",
       "      <td>0</td>\n",
       "      <td>0</td>\n",
       "      <td>0</td>\n",
       "      <td>...</td>\n",
       "      <td>14331.0</td>\n",
       "      <td>14948.0</td>\n",
       "      <td>15549.0</td>\n",
       "      <td>1518.0</td>\n",
       "      <td>1500.0</td>\n",
       "      <td>1000.0</td>\n",
       "      <td>1000.0</td>\n",
       "      <td>1000.0</td>\n",
       "      <td>5000.0</td>\n",
       "      <td>0</td>\n",
       "    </tr>\n",
       "    <tr>\n",
       "      <th>3</th>\n",
       "      <td>4</td>\n",
       "      <td>50000.0</td>\n",
       "      <td>2</td>\n",
       "      <td>2</td>\n",
       "      <td>1</td>\n",
       "      <td>37</td>\n",
       "      <td>0</td>\n",
       "      <td>0</td>\n",
       "      <td>0</td>\n",
       "      <td>0</td>\n",
       "      <td>...</td>\n",
       "      <td>28314.0</td>\n",
       "      <td>28959.0</td>\n",
       "      <td>29547.0</td>\n",
       "      <td>2000.0</td>\n",
       "      <td>2019.0</td>\n",
       "      <td>1200.0</td>\n",
       "      <td>1100.0</td>\n",
       "      <td>1069.0</td>\n",
       "      <td>1000.0</td>\n",
       "      <td>0</td>\n",
       "    </tr>\n",
       "    <tr>\n",
       "      <th>4</th>\n",
       "      <td>5</td>\n",
       "      <td>50000.0</td>\n",
       "      <td>1</td>\n",
       "      <td>2</td>\n",
       "      <td>1</td>\n",
       "      <td>57</td>\n",
       "      <td>-1</td>\n",
       "      <td>0</td>\n",
       "      <td>-1</td>\n",
       "      <td>0</td>\n",
       "      <td>...</td>\n",
       "      <td>20940.0</td>\n",
       "      <td>19146.0</td>\n",
       "      <td>19131.0</td>\n",
       "      <td>2000.0</td>\n",
       "      <td>36681.0</td>\n",
       "      <td>10000.0</td>\n",
       "      <td>9000.0</td>\n",
       "      <td>689.0</td>\n",
       "      <td>679.0</td>\n",
       "      <td>0</td>\n",
       "    </tr>\n",
       "  </tbody>\n",
       "</table>\n",
       "<p>5 rows × 25 columns</p>\n",
       "</div>"
      ],
      "text/plain": [
       "   ID  LIMIT_BAL  SEX  EDUCATION  MARRIAGE  AGE  PAY_0  PAY_2  PAY_3  PAY_4  \\\n",
       "0   1    20000.0    2          2         1   24      2      2     -1     -1   \n",
       "1   2   120000.0    2          2         2   26     -1      2      0      0   \n",
       "2   3    90000.0    2          2         2   34      0      0      0      0   \n",
       "3   4    50000.0    2          2         1   37      0      0      0      0   \n",
       "4   5    50000.0    1          2         1   57     -1      0     -1      0   \n",
       "\n",
       "   ...  BILL_AMT4  BILL_AMT5  BILL_AMT6  PAY_AMT1  PAY_AMT2  PAY_AMT3  \\\n",
       "0  ...        0.0        0.0        0.0       0.0     689.0       0.0   \n",
       "1  ...     3272.0     3455.0     3261.0       0.0    1000.0    1000.0   \n",
       "2  ...    14331.0    14948.0    15549.0    1518.0    1500.0    1000.0   \n",
       "3  ...    28314.0    28959.0    29547.0    2000.0    2019.0    1200.0   \n",
       "4  ...    20940.0    19146.0    19131.0    2000.0   36681.0   10000.0   \n",
       "\n",
       "   PAY_AMT4  PAY_AMT5  PAY_AMT6  default.payment.next.month  \n",
       "0       0.0       0.0       0.0                           1  \n",
       "1    1000.0       0.0    2000.0                           1  \n",
       "2    1000.0    1000.0    5000.0                           0  \n",
       "3    1100.0    1069.0    1000.0                           0  \n",
       "4    9000.0     689.0     679.0                           0  \n",
       "\n",
       "[5 rows x 25 columns]"
      ]
     },
     "execution_count": 3,
     "metadata": {},
     "output_type": "execute_result"
    }
   ],
   "source": [
    "# Reading the data\n",
    "credit_df = pd.read_csv(\"UCI_Credit_Card.csv\")\n",
    "\n",
    "# Displaying the data\n",
    "credit_df.head()"
   ]
  },
  {
   "cell_type": "markdown",
   "metadata": {},
   "source": [
    "<!-- END QUESTION -->\n",
    "\n",
    "<br><br>"
   ]
  },
  {
   "cell_type": "markdown",
   "metadata": {},
   "source": [
    "<!-- BEGIN QUESTION -->\n",
    "\n",
    "## 2. Data splitting <a name=\"2\"></a>\n",
    "<hr>\n",
    "rubric={points:2}\n",
    "\n",
    "**Your tasks:**\n",
    "\n",
    "1. Split the data into train (70%) and test (30%) portions with `random_state=123`.\n",
    "\n",
    "> If your computer cannot handle training on 70% training data, make the test split bigger.  "
   ]
  },
  {
   "cell_type": "markdown",
   "metadata": {},
   "source": [
    "\n",
    "<div class=\"alert alert-warning\">\n",
    "    \n",
    "Solution_2\n",
    "    \n",
    "</div>"
   ]
  },
  {
   "cell_type": "code",
   "execution_count": 4,
   "metadata": {
    "collapsed": false,
    "jupyter": {
     "outputs_hidden": false
    }
   },
   "outputs": [
    {
     "data": {
      "text/html": [
       "<div>\n",
       "<style scoped>\n",
       "    .dataframe tbody tr th:only-of-type {\n",
       "        vertical-align: middle;\n",
       "    }\n",
       "\n",
       "    .dataframe tbody tr th {\n",
       "        vertical-align: top;\n",
       "    }\n",
       "\n",
       "    .dataframe thead th {\n",
       "        text-align: right;\n",
       "    }\n",
       "</style>\n",
       "<table border=\"1\" class=\"dataframe\">\n",
       "  <thead>\n",
       "    <tr style=\"text-align: right;\">\n",
       "      <th></th>\n",
       "      <th>ID</th>\n",
       "      <th>LIMIT_BAL</th>\n",
       "      <th>SEX</th>\n",
       "      <th>EDUCATION</th>\n",
       "      <th>MARRIAGE</th>\n",
       "      <th>AGE</th>\n",
       "      <th>PAY_0</th>\n",
       "      <th>PAY_2</th>\n",
       "      <th>PAY_3</th>\n",
       "      <th>PAY_4</th>\n",
       "      <th>...</th>\n",
       "      <th>BILL_AMT4</th>\n",
       "      <th>BILL_AMT5</th>\n",
       "      <th>BILL_AMT6</th>\n",
       "      <th>PAY_AMT1</th>\n",
       "      <th>PAY_AMT2</th>\n",
       "      <th>PAY_AMT3</th>\n",
       "      <th>PAY_AMT4</th>\n",
       "      <th>PAY_AMT5</th>\n",
       "      <th>PAY_AMT6</th>\n",
       "      <th>default.payment.next.month</th>\n",
       "    </tr>\n",
       "  </thead>\n",
       "  <tbody>\n",
       "    <tr>\n",
       "      <th>16395</th>\n",
       "      <td>16396</td>\n",
       "      <td>320000.0</td>\n",
       "      <td>2</td>\n",
       "      <td>1</td>\n",
       "      <td>2</td>\n",
       "      <td>36</td>\n",
       "      <td>0</td>\n",
       "      <td>0</td>\n",
       "      <td>0</td>\n",
       "      <td>0</td>\n",
       "      <td>...</td>\n",
       "      <td>19370.0</td>\n",
       "      <td>10155.0</td>\n",
       "      <td>3788.0</td>\n",
       "      <td>5000.0</td>\n",
       "      <td>5018.0</td>\n",
       "      <td>1000.0</td>\n",
       "      <td>3000.0</td>\n",
       "      <td>0.0</td>\n",
       "      <td>7013.0</td>\n",
       "      <td>0</td>\n",
       "    </tr>\n",
       "    <tr>\n",
       "      <th>21448</th>\n",
       "      <td>21449</td>\n",
       "      <td>440000.0</td>\n",
       "      <td>2</td>\n",
       "      <td>1</td>\n",
       "      <td>2</td>\n",
       "      <td>30</td>\n",
       "      <td>-1</td>\n",
       "      <td>-1</td>\n",
       "      <td>-1</td>\n",
       "      <td>0</td>\n",
       "      <td>...</td>\n",
       "      <td>171244.0</td>\n",
       "      <td>150897.0</td>\n",
       "      <td>117870.0</td>\n",
       "      <td>612.0</td>\n",
       "      <td>87426.0</td>\n",
       "      <td>130007.0</td>\n",
       "      <td>3018.0</td>\n",
       "      <td>15000.0</td>\n",
       "      <td>51663.0</td>\n",
       "      <td>0</td>\n",
       "    </tr>\n",
       "    <tr>\n",
       "      <th>20034</th>\n",
       "      <td>20035</td>\n",
       "      <td>160000.0</td>\n",
       "      <td>2</td>\n",
       "      <td>3</td>\n",
       "      <td>1</td>\n",
       "      <td>44</td>\n",
       "      <td>-2</td>\n",
       "      <td>-2</td>\n",
       "      <td>-2</td>\n",
       "      <td>-2</td>\n",
       "      <td>...</td>\n",
       "      <td>-18.0</td>\n",
       "      <td>-18.0</td>\n",
       "      <td>-18.0</td>\n",
       "      <td>0.0</td>\n",
       "      <td>0.0</td>\n",
       "      <td>0.0</td>\n",
       "      <td>0.0</td>\n",
       "      <td>0.0</td>\n",
       "      <td>0.0</td>\n",
       "      <td>0</td>\n",
       "    </tr>\n",
       "    <tr>\n",
       "      <th>25755</th>\n",
       "      <td>25756</td>\n",
       "      <td>120000.0</td>\n",
       "      <td>2</td>\n",
       "      <td>2</td>\n",
       "      <td>1</td>\n",
       "      <td>30</td>\n",
       "      <td>0</td>\n",
       "      <td>0</td>\n",
       "      <td>0</td>\n",
       "      <td>0</td>\n",
       "      <td>...</td>\n",
       "      <td>103058.0</td>\n",
       "      <td>71095.0</td>\n",
       "      <td>47379.0</td>\n",
       "      <td>3706.0</td>\n",
       "      <td>5502.0</td>\n",
       "      <td>4204.0</td>\n",
       "      <td>3017.0</td>\n",
       "      <td>2005.0</td>\n",
       "      <td>1702.0</td>\n",
       "      <td>0</td>\n",
       "    </tr>\n",
       "    <tr>\n",
       "      <th>1438</th>\n",
       "      <td>1439</td>\n",
       "      <td>50000.0</td>\n",
       "      <td>1</td>\n",
       "      <td>2</td>\n",
       "      <td>2</td>\n",
       "      <td>54</td>\n",
       "      <td>1</td>\n",
       "      <td>2</td>\n",
       "      <td>0</td>\n",
       "      <td>0</td>\n",
       "      <td>...</td>\n",
       "      <td>27585.0</td>\n",
       "      <td>27910.0</td>\n",
       "      <td>27380.0</td>\n",
       "      <td>0.0</td>\n",
       "      <td>1400.0</td>\n",
       "      <td>1200.0</td>\n",
       "      <td>1500.0</td>\n",
       "      <td>1000.0</td>\n",
       "      <td>1500.0</td>\n",
       "      <td>0</td>\n",
       "    </tr>\n",
       "  </tbody>\n",
       "</table>\n",
       "<p>5 rows × 25 columns</p>\n",
       "</div>"
      ],
      "text/plain": [
       "          ID  LIMIT_BAL  SEX  EDUCATION  MARRIAGE  AGE  PAY_0  PAY_2  PAY_3  \\\n",
       "16395  16396   320000.0    2          1         2   36      0      0      0   \n",
       "21448  21449   440000.0    2          1         2   30     -1     -1     -1   \n",
       "20034  20035   160000.0    2          3         1   44     -2     -2     -2   \n",
       "25755  25756   120000.0    2          2         1   30      0      0      0   \n",
       "1438    1439    50000.0    1          2         2   54      1      2      0   \n",
       "\n",
       "       PAY_4  ...  BILL_AMT4  BILL_AMT5  BILL_AMT6  PAY_AMT1  PAY_AMT2  \\\n",
       "16395      0  ...    19370.0    10155.0     3788.0    5000.0    5018.0   \n",
       "21448      0  ...   171244.0   150897.0   117870.0     612.0   87426.0   \n",
       "20034     -2  ...      -18.0      -18.0      -18.0       0.0       0.0   \n",
       "25755      0  ...   103058.0    71095.0    47379.0    3706.0    5502.0   \n",
       "1438       0  ...    27585.0    27910.0    27380.0       0.0    1400.0   \n",
       "\n",
       "       PAY_AMT3  PAY_AMT4  PAY_AMT5  PAY_AMT6  default.payment.next.month  \n",
       "16395    1000.0    3000.0       0.0    7013.0                           0  \n",
       "21448  130007.0    3018.0   15000.0   51663.0                           0  \n",
       "20034       0.0       0.0       0.0       0.0                           0  \n",
       "25755    4204.0    3017.0    2005.0    1702.0                           0  \n",
       "1438     1200.0    1500.0    1000.0    1500.0                           0  \n",
       "\n",
       "[5 rows x 25 columns]"
      ]
     },
     "execution_count": 4,
     "metadata": {},
     "output_type": "execute_result"
    }
   ],
   "source": [
    "# Splitting the data into train_df and test_df with 70% train data and 30% test data\n",
    "train_df, test_df = train_test_split(credit_df, test_size=0.3, random_state=123)\n",
    "\n",
    "# Dropping the target column from the X_train and X_test\n",
    "X_train = train_df.drop(columns=[\"default.payment.next.month\"])\n",
    "y_train = train_df[\"default.payment.next.month\"]\n",
    "\n",
    "X_test = test_df.drop(columns=[\"default.payment.next.month\"])\n",
    "y_test = test_df[\"default.payment.next.month\"]\n",
    "\n",
    "# Displaying  first 5 rows of train_df data\n",
    "train_df.head()"
   ]
  },
  {
   "cell_type": "markdown",
   "metadata": {},
   "source": [
    "<!-- END QUESTION -->\n",
    "\n",
    "<br><br>"
   ]
  },
  {
   "cell_type": "markdown",
   "metadata": {},
   "source": [
    "<!-- BEGIN QUESTION -->\n",
    "\n",
    "## 3. EDA <a name=\"3\"></a>\n",
    "<hr>\n",
    "rubric={points:10}\n",
    "\n",
    "**Your tasks:**\n",
    "\n",
    "1. Perform exploratory data analysis on the train set.\n",
    "2. Include at least two summary statistics and two visualizations that you find useful, and accompany each one with a sentence explaining it.\n",
    "3. Summarize your initial observations about the data. \n",
    "4. Pick appropriate metric/metrics for assessment. "
   ]
  },
  {
   "cell_type": "markdown",
   "metadata": {},
   "source": [
    "<div class=\"alert alert-warning\">\n",
    "    \n",
    "Solution_3\n",
    "    \n",
    "</div>"
   ]
  },
  {
   "cell_type": "markdown",
   "metadata": {
    "tags": []
   },
   "source": [
    "#### EDA on Training Set"
   ]
  },
  {
   "cell_type": "code",
   "execution_count": 5,
   "metadata": {},
   "outputs": [
    {
     "name": "stdout",
     "output_type": "stream",
     "text": [
      "<class 'pandas.core.frame.DataFrame'>\n",
      "Int64Index: 21000 entries, 16395 to 19966\n",
      "Data columns (total 25 columns):\n",
      " #   Column                      Non-Null Count  Dtype  \n",
      "---  ------                      --------------  -----  \n",
      " 0   ID                          21000 non-null  int64  \n",
      " 1   LIMIT_BAL                   21000 non-null  float64\n",
      " 2   SEX                         21000 non-null  int64  \n",
      " 3   EDUCATION                   21000 non-null  int64  \n",
      " 4   MARRIAGE                    21000 non-null  int64  \n",
      " 5   AGE                         21000 non-null  int64  \n",
      " 6   PAY_0                       21000 non-null  int64  \n",
      " 7   PAY_2                       21000 non-null  int64  \n",
      " 8   PAY_3                       21000 non-null  int64  \n",
      " 9   PAY_4                       21000 non-null  int64  \n",
      " 10  PAY_5                       21000 non-null  int64  \n",
      " 11  PAY_6                       21000 non-null  int64  \n",
      " 12  BILL_AMT1                   21000 non-null  float64\n",
      " 13  BILL_AMT2                   21000 non-null  float64\n",
      " 14  BILL_AMT3                   21000 non-null  float64\n",
      " 15  BILL_AMT4                   21000 non-null  float64\n",
      " 16  BILL_AMT5                   21000 non-null  float64\n",
      " 17  BILL_AMT6                   21000 non-null  float64\n",
      " 18  PAY_AMT1                    21000 non-null  float64\n",
      " 19  PAY_AMT2                    21000 non-null  float64\n",
      " 20  PAY_AMT3                    21000 non-null  float64\n",
      " 21  PAY_AMT4                    21000 non-null  float64\n",
      " 22  PAY_AMT5                    21000 non-null  float64\n",
      " 23  PAY_AMT6                    21000 non-null  float64\n",
      " 24  default.payment.next.month  21000 non-null  int64  \n",
      "dtypes: float64(13), int64(12)\n",
      "memory usage: 4.2 MB\n"
     ]
    }
   ],
   "source": [
    "train_df.info()"
   ]
  },
  {
   "cell_type": "code",
   "execution_count": 6,
   "metadata": {},
   "outputs": [
    {
     "data": {
      "text/html": [
       "<div>\n",
       "<style scoped>\n",
       "    .dataframe tbody tr th:only-of-type {\n",
       "        vertical-align: middle;\n",
       "    }\n",
       "\n",
       "    .dataframe tbody tr th {\n",
       "        vertical-align: top;\n",
       "    }\n",
       "\n",
       "    .dataframe thead th {\n",
       "        text-align: right;\n",
       "    }\n",
       "</style>\n",
       "<table border=\"1\" class=\"dataframe\">\n",
       "  <thead>\n",
       "    <tr style=\"text-align: right;\">\n",
       "      <th></th>\n",
       "      <th>ID</th>\n",
       "      <th>LIMIT_BAL</th>\n",
       "      <th>SEX</th>\n",
       "      <th>EDUCATION</th>\n",
       "      <th>MARRIAGE</th>\n",
       "      <th>AGE</th>\n",
       "      <th>PAY_0</th>\n",
       "      <th>PAY_2</th>\n",
       "      <th>PAY_3</th>\n",
       "      <th>PAY_4</th>\n",
       "      <th>...</th>\n",
       "      <th>BILL_AMT4</th>\n",
       "      <th>BILL_AMT5</th>\n",
       "      <th>BILL_AMT6</th>\n",
       "      <th>PAY_AMT1</th>\n",
       "      <th>PAY_AMT2</th>\n",
       "      <th>PAY_AMT3</th>\n",
       "      <th>PAY_AMT4</th>\n",
       "      <th>PAY_AMT5</th>\n",
       "      <th>PAY_AMT6</th>\n",
       "      <th>default.payment.next.month</th>\n",
       "    </tr>\n",
       "  </thead>\n",
       "  <tbody>\n",
       "    <tr>\n",
       "      <th>count</th>\n",
       "      <td>21000.000000</td>\n",
       "      <td>21000.000000</td>\n",
       "      <td>21000.000000</td>\n",
       "      <td>21000.000000</td>\n",
       "      <td>21000.000000</td>\n",
       "      <td>21000.000000</td>\n",
       "      <td>21000.000000</td>\n",
       "      <td>21000.000000</td>\n",
       "      <td>21000.000000</td>\n",
       "      <td>21000.000000</td>\n",
       "      <td>...</td>\n",
       "      <td>21000.000000</td>\n",
       "      <td>21000.000000</td>\n",
       "      <td>21000.000000</td>\n",
       "      <td>21000.000000</td>\n",
       "      <td>2.100000e+04</td>\n",
       "      <td>21000.000000</td>\n",
       "      <td>21000.000000</td>\n",
       "      <td>21000.000000</td>\n",
       "      <td>21000.000000</td>\n",
       "      <td>21000.000000</td>\n",
       "    </tr>\n",
       "    <tr>\n",
       "      <th>mean</th>\n",
       "      <td>14962.348238</td>\n",
       "      <td>167880.651429</td>\n",
       "      <td>1.600762</td>\n",
       "      <td>1.852143</td>\n",
       "      <td>1.554000</td>\n",
       "      <td>35.500810</td>\n",
       "      <td>-0.015429</td>\n",
       "      <td>-0.137095</td>\n",
       "      <td>-0.171619</td>\n",
       "      <td>-0.225238</td>\n",
       "      <td>...</td>\n",
       "      <td>43486.610905</td>\n",
       "      <td>40428.518333</td>\n",
       "      <td>38767.202667</td>\n",
       "      <td>5673.585143</td>\n",
       "      <td>5.895027e+03</td>\n",
       "      <td>5311.432286</td>\n",
       "      <td>4774.021381</td>\n",
       "      <td>4751.850095</td>\n",
       "      <td>5237.762190</td>\n",
       "      <td>0.223238</td>\n",
       "    </tr>\n",
       "    <tr>\n",
       "      <th>std</th>\n",
       "      <td>8650.734050</td>\n",
       "      <td>130202.682167</td>\n",
       "      <td>0.489753</td>\n",
       "      <td>0.792961</td>\n",
       "      <td>0.521675</td>\n",
       "      <td>9.212644</td>\n",
       "      <td>1.120465</td>\n",
       "      <td>1.194506</td>\n",
       "      <td>1.196123</td>\n",
       "      <td>1.168556</td>\n",
       "      <td>...</td>\n",
       "      <td>64843.303993</td>\n",
       "      <td>61187.200817</td>\n",
       "      <td>59587.689549</td>\n",
       "      <td>17033.241454</td>\n",
       "      <td>2.180143e+04</td>\n",
       "      <td>18377.997079</td>\n",
       "      <td>15434.136142</td>\n",
       "      <td>15228.193125</td>\n",
       "      <td>18116.846563</td>\n",
       "      <td>0.416427</td>\n",
       "    </tr>\n",
       "    <tr>\n",
       "      <th>min</th>\n",
       "      <td>1.000000</td>\n",
       "      <td>10000.000000</td>\n",
       "      <td>1.000000</td>\n",
       "      <td>0.000000</td>\n",
       "      <td>0.000000</td>\n",
       "      <td>21.000000</td>\n",
       "      <td>-2.000000</td>\n",
       "      <td>-2.000000</td>\n",
       "      <td>-2.000000</td>\n",
       "      <td>-2.000000</td>\n",
       "      <td>...</td>\n",
       "      <td>-50616.000000</td>\n",
       "      <td>-61372.000000</td>\n",
       "      <td>-339603.000000</td>\n",
       "      <td>0.000000</td>\n",
       "      <td>0.000000e+00</td>\n",
       "      <td>0.000000</td>\n",
       "      <td>0.000000</td>\n",
       "      <td>0.000000</td>\n",
       "      <td>0.000000</td>\n",
       "      <td>0.000000</td>\n",
       "    </tr>\n",
       "    <tr>\n",
       "      <th>25%</th>\n",
       "      <td>7498.750000</td>\n",
       "      <td>50000.000000</td>\n",
       "      <td>1.000000</td>\n",
       "      <td>1.000000</td>\n",
       "      <td>1.000000</td>\n",
       "      <td>28.000000</td>\n",
       "      <td>-1.000000</td>\n",
       "      <td>-1.000000</td>\n",
       "      <td>-1.000000</td>\n",
       "      <td>-1.000000</td>\n",
       "      <td>...</td>\n",
       "      <td>2293.750000</td>\n",
       "      <td>1739.500000</td>\n",
       "      <td>1215.750000</td>\n",
       "      <td>1000.000000</td>\n",
       "      <td>8.200000e+02</td>\n",
       "      <td>390.000000</td>\n",
       "      <td>266.000000</td>\n",
       "      <td>234.000000</td>\n",
       "      <td>110.750000</td>\n",
       "      <td>0.000000</td>\n",
       "    </tr>\n",
       "    <tr>\n",
       "      <th>50%</th>\n",
       "      <td>14960.500000</td>\n",
       "      <td>140000.000000</td>\n",
       "      <td>2.000000</td>\n",
       "      <td>2.000000</td>\n",
       "      <td>2.000000</td>\n",
       "      <td>34.000000</td>\n",
       "      <td>0.000000</td>\n",
       "      <td>0.000000</td>\n",
       "      <td>0.000000</td>\n",
       "      <td>0.000000</td>\n",
       "      <td>...</td>\n",
       "      <td>19102.500000</td>\n",
       "      <td>18083.000000</td>\n",
       "      <td>16854.500000</td>\n",
       "      <td>2100.000000</td>\n",
       "      <td>2.007000e+03</td>\n",
       "      <td>1809.500000</td>\n",
       "      <td>1500.000000</td>\n",
       "      <td>1500.000000</td>\n",
       "      <td>1500.000000</td>\n",
       "      <td>0.000000</td>\n",
       "    </tr>\n",
       "    <tr>\n",
       "      <th>75%</th>\n",
       "      <td>22458.250000</td>\n",
       "      <td>240000.000000</td>\n",
       "      <td>2.000000</td>\n",
       "      <td>2.000000</td>\n",
       "      <td>2.000000</td>\n",
       "      <td>41.000000</td>\n",
       "      <td>0.000000</td>\n",
       "      <td>0.000000</td>\n",
       "      <td>0.000000</td>\n",
       "      <td>0.000000</td>\n",
       "      <td>...</td>\n",
       "      <td>54763.250000</td>\n",
       "      <td>50491.000000</td>\n",
       "      <td>49253.750000</td>\n",
       "      <td>5007.250000</td>\n",
       "      <td>5.000000e+03</td>\n",
       "      <td>4628.500000</td>\n",
       "      <td>4021.250000</td>\n",
       "      <td>4016.000000</td>\n",
       "      <td>4000.000000</td>\n",
       "      <td>0.000000</td>\n",
       "    </tr>\n",
       "    <tr>\n",
       "      <th>max</th>\n",
       "      <td>30000.000000</td>\n",
       "      <td>1000000.000000</td>\n",
       "      <td>2.000000</td>\n",
       "      <td>6.000000</td>\n",
       "      <td>3.000000</td>\n",
       "      <td>79.000000</td>\n",
       "      <td>8.000000</td>\n",
       "      <td>8.000000</td>\n",
       "      <td>8.000000</td>\n",
       "      <td>8.000000</td>\n",
       "      <td>...</td>\n",
       "      <td>891586.000000</td>\n",
       "      <td>927171.000000</td>\n",
       "      <td>961664.000000</td>\n",
       "      <td>873552.000000</td>\n",
       "      <td>1.227082e+06</td>\n",
       "      <td>896040.000000</td>\n",
       "      <td>621000.000000</td>\n",
       "      <td>426529.000000</td>\n",
       "      <td>528666.000000</td>\n",
       "      <td>1.000000</td>\n",
       "    </tr>\n",
       "  </tbody>\n",
       "</table>\n",
       "<p>8 rows × 25 columns</p>\n",
       "</div>"
      ],
      "text/plain": [
       "                 ID       LIMIT_BAL           SEX     EDUCATION      MARRIAGE  \\\n",
       "count  21000.000000    21000.000000  21000.000000  21000.000000  21000.000000   \n",
       "mean   14962.348238   167880.651429      1.600762      1.852143      1.554000   \n",
       "std     8650.734050   130202.682167      0.489753      0.792961      0.521675   \n",
       "min        1.000000    10000.000000      1.000000      0.000000      0.000000   \n",
       "25%     7498.750000    50000.000000      1.000000      1.000000      1.000000   \n",
       "50%    14960.500000   140000.000000      2.000000      2.000000      2.000000   \n",
       "75%    22458.250000   240000.000000      2.000000      2.000000      2.000000   \n",
       "max    30000.000000  1000000.000000      2.000000      6.000000      3.000000   \n",
       "\n",
       "                AGE         PAY_0         PAY_2         PAY_3         PAY_4  \\\n",
       "count  21000.000000  21000.000000  21000.000000  21000.000000  21000.000000   \n",
       "mean      35.500810     -0.015429     -0.137095     -0.171619     -0.225238   \n",
       "std        9.212644      1.120465      1.194506      1.196123      1.168556   \n",
       "min       21.000000     -2.000000     -2.000000     -2.000000     -2.000000   \n",
       "25%       28.000000     -1.000000     -1.000000     -1.000000     -1.000000   \n",
       "50%       34.000000      0.000000      0.000000      0.000000      0.000000   \n",
       "75%       41.000000      0.000000      0.000000      0.000000      0.000000   \n",
       "max       79.000000      8.000000      8.000000      8.000000      8.000000   \n",
       "\n",
       "       ...      BILL_AMT4      BILL_AMT5      BILL_AMT6       PAY_AMT1  \\\n",
       "count  ...   21000.000000   21000.000000   21000.000000   21000.000000   \n",
       "mean   ...   43486.610905   40428.518333   38767.202667    5673.585143   \n",
       "std    ...   64843.303993   61187.200817   59587.689549   17033.241454   \n",
       "min    ...  -50616.000000  -61372.000000 -339603.000000       0.000000   \n",
       "25%    ...    2293.750000    1739.500000    1215.750000    1000.000000   \n",
       "50%    ...   19102.500000   18083.000000   16854.500000    2100.000000   \n",
       "75%    ...   54763.250000   50491.000000   49253.750000    5007.250000   \n",
       "max    ...  891586.000000  927171.000000  961664.000000  873552.000000   \n",
       "\n",
       "           PAY_AMT2       PAY_AMT3       PAY_AMT4       PAY_AMT5  \\\n",
       "count  2.100000e+04   21000.000000   21000.000000   21000.000000   \n",
       "mean   5.895027e+03    5311.432286    4774.021381    4751.850095   \n",
       "std    2.180143e+04   18377.997079   15434.136142   15228.193125   \n",
       "min    0.000000e+00       0.000000       0.000000       0.000000   \n",
       "25%    8.200000e+02     390.000000     266.000000     234.000000   \n",
       "50%    2.007000e+03    1809.500000    1500.000000    1500.000000   \n",
       "75%    5.000000e+03    4628.500000    4021.250000    4016.000000   \n",
       "max    1.227082e+06  896040.000000  621000.000000  426529.000000   \n",
       "\n",
       "            PAY_AMT6  default.payment.next.month  \n",
       "count   21000.000000                21000.000000  \n",
       "mean     5237.762190                    0.223238  \n",
       "std     18116.846563                    0.416427  \n",
       "min         0.000000                    0.000000  \n",
       "25%       110.750000                    0.000000  \n",
       "50%      1500.000000                    0.000000  \n",
       "75%      4000.000000                    0.000000  \n",
       "max    528666.000000                    1.000000  \n",
       "\n",
       "[8 rows x 25 columns]"
      ]
     },
     "execution_count": 6,
     "metadata": {},
     "output_type": "execute_result"
    }
   ],
   "source": [
    "train_df.describe()"
   ]
  },
  {
   "cell_type": "markdown",
   "metadata": {},
   "source": [
    "Observing the above we can see that there are no missing or null values for any of the features in the training data."
   ]
  },
  {
   "cell_type": "markdown",
   "metadata": {},
   "source": [
    "#### Two Useful Summary Statistics"
   ]
  },
  {
   "cell_type": "markdown",
   "metadata": {},
   "source": [
    "##### MEAN payment amount for a client"
   ]
  },
  {
   "cell_type": "code",
   "execution_count": 7,
   "metadata": {},
   "outputs": [
    {
     "data": {
      "text/html": [
       "<div>\n",
       "<style scoped>\n",
       "    .dataframe tbody tr th:only-of-type {\n",
       "        vertical-align: middle;\n",
       "    }\n",
       "\n",
       "    .dataframe tbody tr th {\n",
       "        vertical-align: top;\n",
       "    }\n",
       "\n",
       "    .dataframe thead th {\n",
       "        text-align: right;\n",
       "    }\n",
       "</style>\n",
       "<table border=\"1\" class=\"dataframe\">\n",
       "  <thead>\n",
       "    <tr style=\"text-align: right;\">\n",
       "      <th></th>\n",
       "      <th>PAY_AMT1</th>\n",
       "      <th>PAY_AMT2</th>\n",
       "      <th>PAY_AMT3</th>\n",
       "      <th>PAY_AMT4</th>\n",
       "      <th>PAY_AMT5</th>\n",
       "      <th>PAY_AMT6</th>\n",
       "    </tr>\n",
       "  </thead>\n",
       "  <tbody>\n",
       "    <tr>\n",
       "      <th>16395</th>\n",
       "      <td>5000.0</td>\n",
       "      <td>5018.0</td>\n",
       "      <td>1000.0</td>\n",
       "      <td>3000.0</td>\n",
       "      <td>0.0</td>\n",
       "      <td>7013.0</td>\n",
       "    </tr>\n",
       "    <tr>\n",
       "      <th>21448</th>\n",
       "      <td>612.0</td>\n",
       "      <td>87426.0</td>\n",
       "      <td>130007.0</td>\n",
       "      <td>3018.0</td>\n",
       "      <td>15000.0</td>\n",
       "      <td>51663.0</td>\n",
       "    </tr>\n",
       "    <tr>\n",
       "      <th>20034</th>\n",
       "      <td>0.0</td>\n",
       "      <td>0.0</td>\n",
       "      <td>0.0</td>\n",
       "      <td>0.0</td>\n",
       "      <td>0.0</td>\n",
       "      <td>0.0</td>\n",
       "    </tr>\n",
       "    <tr>\n",
       "      <th>25755</th>\n",
       "      <td>3706.0</td>\n",
       "      <td>5502.0</td>\n",
       "      <td>4204.0</td>\n",
       "      <td>3017.0</td>\n",
       "      <td>2005.0</td>\n",
       "      <td>1702.0</td>\n",
       "    </tr>\n",
       "    <tr>\n",
       "      <th>1438</th>\n",
       "      <td>0.0</td>\n",
       "      <td>1400.0</td>\n",
       "      <td>1200.0</td>\n",
       "      <td>1500.0</td>\n",
       "      <td>1000.0</td>\n",
       "      <td>1500.0</td>\n",
       "    </tr>\n",
       "    <tr>\n",
       "      <th>...</th>\n",
       "      <td>...</td>\n",
       "      <td>...</td>\n",
       "      <td>...</td>\n",
       "      <td>...</td>\n",
       "      <td>...</td>\n",
       "      <td>...</td>\n",
       "    </tr>\n",
       "    <tr>\n",
       "      <th>28636</th>\n",
       "      <td>1204.0</td>\n",
       "      <td>1300.0</td>\n",
       "      <td>1242.0</td>\n",
       "      <td>1900.0</td>\n",
       "      <td>0.0</td>\n",
       "      <td>3000.0</td>\n",
       "    </tr>\n",
       "    <tr>\n",
       "      <th>17730</th>\n",
       "      <td>0.0</td>\n",
       "      <td>0.0</td>\n",
       "      <td>2580.0</td>\n",
       "      <td>0.0</td>\n",
       "      <td>6941.0</td>\n",
       "      <td>0.0</td>\n",
       "    </tr>\n",
       "    <tr>\n",
       "      <th>28030</th>\n",
       "      <td>2002.0</td>\n",
       "      <td>2000.0</td>\n",
       "      <td>1530.0</td>\n",
       "      <td>1000.0</td>\n",
       "      <td>327.0</td>\n",
       "      <td>329.0</td>\n",
       "    </tr>\n",
       "    <tr>\n",
       "      <th>15725</th>\n",
       "      <td>2000.0</td>\n",
       "      <td>2000.0</td>\n",
       "      <td>2000.0</td>\n",
       "      <td>1765.0</td>\n",
       "      <td>331.0</td>\n",
       "      <td>0.0</td>\n",
       "    </tr>\n",
       "    <tr>\n",
       "      <th>19966</th>\n",
       "      <td>25794.0</td>\n",
       "      <td>3007.0</td>\n",
       "      <td>4305.0</td>\n",
       "      <td>3737.0</td>\n",
       "      <td>2290.0</td>\n",
       "      <td>22259.0</td>\n",
       "    </tr>\n",
       "  </tbody>\n",
       "</table>\n",
       "<p>21000 rows × 6 columns</p>\n",
       "</div>"
      ],
      "text/plain": [
       "       PAY_AMT1  PAY_AMT2  PAY_AMT3  PAY_AMT4  PAY_AMT5  PAY_AMT6\n",
       "16395    5000.0    5018.0    1000.0    3000.0       0.0    7013.0\n",
       "21448     612.0   87426.0  130007.0    3018.0   15000.0   51663.0\n",
       "20034       0.0       0.0       0.0       0.0       0.0       0.0\n",
       "25755    3706.0    5502.0    4204.0    3017.0    2005.0    1702.0\n",
       "1438        0.0    1400.0    1200.0    1500.0    1000.0    1500.0\n",
       "...         ...       ...       ...       ...       ...       ...\n",
       "28636    1204.0    1300.0    1242.0    1900.0       0.0    3000.0\n",
       "17730       0.0       0.0    2580.0       0.0    6941.0       0.0\n",
       "28030    2002.0    2000.0    1530.0    1000.0     327.0     329.0\n",
       "15725    2000.0    2000.0    2000.0    1765.0     331.0       0.0\n",
       "19966   25794.0    3007.0    4305.0    3737.0    2290.0   22259.0\n",
       "\n",
       "[21000 rows x 6 columns]"
      ]
     },
     "execution_count": 7,
     "metadata": {},
     "output_type": "execute_result"
    }
   ],
   "source": [
    "train_df.iloc[:,18:24]"
   ]
  },
  {
   "cell_type": "code",
   "execution_count": 8,
   "metadata": {},
   "outputs": [
    {
     "data": {
      "text/plain": [
       "5273.946333333333"
      ]
     },
     "execution_count": 8,
     "metadata": {},
     "output_type": "execute_result"
    }
   ],
   "source": [
    "train_df[\"PAY_AMT_TOTAL\"] = train_df.iloc[:,18:24].sum(axis=1)\n",
    "train_df[\"PAY_AMT_AVG\"] = train_df[\"PAY_AMT_TOTAL\"]/6\n",
    "np.mean(train_df[\"PAY_AMT_AVG\"])"
   ]
  },
  {
   "cell_type": "markdown",
   "metadata": {},
   "source": [
    "Here we sum up all of the payment amount values from a client from April to September (6 months) and then divide by the number of months to arrive at the average payment amount a client pays on their credit balance. This is a useful statistic to see how much a client would pay on average per month, which could be a good predictor of whether or not they will default the next month."
   ]
  },
  {
   "cell_type": "markdown",
   "metadata": {},
   "source": [
    "##### MEAN bill amount for a client"
   ]
  },
  {
   "cell_type": "code",
   "execution_count": 9,
   "metadata": {},
   "outputs": [
    {
     "data": {
      "text/html": [
       "<div>\n",
       "<style scoped>\n",
       "    .dataframe tbody tr th:only-of-type {\n",
       "        vertical-align: middle;\n",
       "    }\n",
       "\n",
       "    .dataframe tbody tr th {\n",
       "        vertical-align: top;\n",
       "    }\n",
       "\n",
       "    .dataframe thead th {\n",
       "        text-align: right;\n",
       "    }\n",
       "</style>\n",
       "<table border=\"1\" class=\"dataframe\">\n",
       "  <thead>\n",
       "    <tr style=\"text-align: right;\">\n",
       "      <th></th>\n",
       "      <th>BILL_AMT1</th>\n",
       "      <th>BILL_AMT2</th>\n",
       "      <th>BILL_AMT3</th>\n",
       "      <th>BILL_AMT4</th>\n",
       "      <th>BILL_AMT5</th>\n",
       "      <th>BILL_AMT6</th>\n",
       "    </tr>\n",
       "  </thead>\n",
       "  <tbody>\n",
       "    <tr>\n",
       "      <th>16395</th>\n",
       "      <td>29026.0</td>\n",
       "      <td>28179.0</td>\n",
       "      <td>28695.0</td>\n",
       "      <td>19370.0</td>\n",
       "      <td>10155.0</td>\n",
       "      <td>3788.0</td>\n",
       "    </tr>\n",
       "    <tr>\n",
       "      <th>21448</th>\n",
       "      <td>777.0</td>\n",
       "      <td>612.0</td>\n",
       "      <td>87426.0</td>\n",
       "      <td>171244.0</td>\n",
       "      <td>150897.0</td>\n",
       "      <td>117870.0</td>\n",
       "    </tr>\n",
       "    <tr>\n",
       "      <th>20034</th>\n",
       "      <td>-18.0</td>\n",
       "      <td>-18.0</td>\n",
       "      <td>-18.0</td>\n",
       "      <td>-18.0</td>\n",
       "      <td>-18.0</td>\n",
       "      <td>-18.0</td>\n",
       "    </tr>\n",
       "    <tr>\n",
       "      <th>25755</th>\n",
       "      <td>101596.0</td>\n",
       "      <td>102860.0</td>\n",
       "      <td>104694.0</td>\n",
       "      <td>103058.0</td>\n",
       "      <td>71095.0</td>\n",
       "      <td>47379.0</td>\n",
       "    </tr>\n",
       "    <tr>\n",
       "      <th>1438</th>\n",
       "      <td>48153.0</td>\n",
       "      <td>46885.0</td>\n",
       "      <td>27168.0</td>\n",
       "      <td>27585.0</td>\n",
       "      <td>27910.0</td>\n",
       "      <td>27380.0</td>\n",
       "    </tr>\n",
       "    <tr>\n",
       "      <th>...</th>\n",
       "      <td>...</td>\n",
       "      <td>...</td>\n",
       "      <td>...</td>\n",
       "      <td>...</td>\n",
       "      <td>...</td>\n",
       "      <td>...</td>\n",
       "    </tr>\n",
       "    <tr>\n",
       "      <th>28636</th>\n",
       "      <td>13415.0</td>\n",
       "      <td>14381.0</td>\n",
       "      <td>13277.0</td>\n",
       "      <td>14291.0</td>\n",
       "      <td>15949.0</td>\n",
       "      <td>15556.0</td>\n",
       "    </tr>\n",
       "    <tr>\n",
       "      <th>17730</th>\n",
       "      <td>0.0</td>\n",
       "      <td>0.0</td>\n",
       "      <td>0.0</td>\n",
       "      <td>2580.0</td>\n",
       "      <td>2580.0</td>\n",
       "      <td>6941.0</td>\n",
       "    </tr>\n",
       "    <tr>\n",
       "      <th>28030</th>\n",
       "      <td>47194.0</td>\n",
       "      <td>48381.0</td>\n",
       "      <td>46777.0</td>\n",
       "      <td>39420.0</td>\n",
       "      <td>8824.0</td>\n",
       "      <td>9009.0</td>\n",
       "    </tr>\n",
       "    <tr>\n",
       "      <th>15725</th>\n",
       "      <td>28409.0</td>\n",
       "      <td>28530.0</td>\n",
       "      <td>29435.0</td>\n",
       "      <td>30841.0</td>\n",
       "      <td>29434.0</td>\n",
       "      <td>16565.0</td>\n",
       "    </tr>\n",
       "    <tr>\n",
       "      <th>19966</th>\n",
       "      <td>2788.0</td>\n",
       "      <td>25790.0</td>\n",
       "      <td>3007.0</td>\n",
       "      <td>4246.0</td>\n",
       "      <td>3737.0</td>\n",
       "      <td>2290.0</td>\n",
       "    </tr>\n",
       "  </tbody>\n",
       "</table>\n",
       "<p>21000 rows × 6 columns</p>\n",
       "</div>"
      ],
      "text/plain": [
       "       BILL_AMT1  BILL_AMT2  BILL_AMT3  BILL_AMT4  BILL_AMT5  BILL_AMT6\n",
       "16395    29026.0    28179.0    28695.0    19370.0    10155.0     3788.0\n",
       "21448      777.0      612.0    87426.0   171244.0   150897.0   117870.0\n",
       "20034      -18.0      -18.0      -18.0      -18.0      -18.0      -18.0\n",
       "25755   101596.0   102860.0   104694.0   103058.0    71095.0    47379.0\n",
       "1438     48153.0    46885.0    27168.0    27585.0    27910.0    27380.0\n",
       "...          ...        ...        ...        ...        ...        ...\n",
       "28636    13415.0    14381.0    13277.0    14291.0    15949.0    15556.0\n",
       "17730        0.0        0.0        0.0     2580.0     2580.0     6941.0\n",
       "28030    47194.0    48381.0    46777.0    39420.0     8824.0     9009.0\n",
       "15725    28409.0    28530.0    29435.0    30841.0    29434.0    16565.0\n",
       "19966     2788.0    25790.0     3007.0     4246.0     3737.0     2290.0\n",
       "\n",
       "[21000 rows x 6 columns]"
      ]
     },
     "execution_count": 9,
     "metadata": {},
     "output_type": "execute_result"
    }
   ],
   "source": [
    "train_df.iloc[:,12:18]"
   ]
  },
  {
   "cell_type": "code",
   "execution_count": 10,
   "metadata": {},
   "outputs": [
    {
     "data": {
      "text/plain": [
       "44987.85626190476"
      ]
     },
     "execution_count": 10,
     "metadata": {},
     "output_type": "execute_result"
    }
   ],
   "source": [
    "train_df[\"BILL_AMT_TOTAL\"] = train_df.iloc[:,12:18].sum(axis=1)\n",
    "train_df[\"BILL_AMT_AVG\"] = train_df[\"BILL_AMT_TOTAL\"]/6\n",
    "np.mean(train_df[\"BILL_AMT_AVG\"])"
   ]
  },
  {
   "cell_type": "markdown",
   "metadata": {},
   "source": [
    "Here we sum up all of the bill amount values from a client from April to September (6 months) and then divide by the number of months to arrive at the average amount billed to a client for their credit balance. This is a useful statistic to see how much debt the average client owes, and we can see this number is much higher than the amounts being paid off on average, suggesting the average client in this dataset is taking on more credit card debt than they can successfully repay."
   ]
  },
  {
   "cell_type": "markdown",
   "metadata": {},
   "source": [
    "#### Two Useful Visualizations\n",
    "**Separating Columns into Numeric and Categorical**"
   ]
  },
  {
   "cell_type": "code",
   "execution_count": 11,
   "metadata": {
    "tags": []
   },
   "outputs": [],
   "source": [
    "# Categorical columns\n",
    "categorical_cols = {\"EDUCATION\", \n",
    "                    \"MARRIAGE\", \n",
    "                    \"SEX\", \n",
    "                    \"PAY_0\", \"PAY_2\", \"PAY_3\", \"PAY_4\", \"PAY_5\",\"PAY_6\"}\n",
    "# Numeric columns\n",
    "numeric_cols = {\"AGE\", \n",
    "                \"LIMIT_BAL\",\n",
    "                \"BILL_AMT1\", \"BILL_AMT2\", \"BILL_AMT3\", \"BILL_AMT4\", \"BILL_AMT5\", \"BILL_AMT6\", \n",
    "                \"PAY_AMT1\", \"PAY_AMT2\", \"PAY_AMT3\", \"PAY_AMT4\", \"PAY_AMT5\", \"PAY_AMT6\"}"
   ]
  },
  {
   "cell_type": "markdown",
   "metadata": {},
   "source": [
    "So we can see from the above that there are 14 numerical features and 9 categorical features (one of which is ordinal)."
   ]
  },
  {
   "cell_type": "markdown",
   "metadata": {},
   "source": [
    "##### Visualization #1: Plotting Histogram(s) of Numeric Columns"
   ]
  },
  {
   "cell_type": "code",
   "execution_count": 12,
   "metadata": {
    "tags": []
   },
   "outputs": [
    {
     "data": {
      "text/plain": [
       "array([[<AxesSubplot:title={'center':'BILL_AMT3'}>,\n",
       "        <AxesSubplot:title={'center':'AGE'}>,\n",
       "        <AxesSubplot:title={'center':'PAY_AMT5'}>,\n",
       "        <AxesSubplot:title={'center':'BILL_AMT4'}>],\n",
       "       [<AxesSubplot:title={'center':'PAY_AMT1'}>,\n",
       "        <AxesSubplot:title={'center':'LIMIT_BAL'}>,\n",
       "        <AxesSubplot:title={'center':'BILL_AMT6'}>,\n",
       "        <AxesSubplot:title={'center':'BILL_AMT2'}>],\n",
       "       [<AxesSubplot:title={'center':'PAY_AMT2'}>,\n",
       "        <AxesSubplot:title={'center':'PAY_AMT4'}>,\n",
       "        <AxesSubplot:title={'center':'BILL_AMT1'}>,\n",
       "        <AxesSubplot:title={'center':'PAY_AMT3'}>],\n",
       "       [<AxesSubplot:title={'center':'BILL_AMT5'}>,\n",
       "        <AxesSubplot:title={'center':'PAY_AMT6'}>, <AxesSubplot:>,\n",
       "        <AxesSubplot:>]], dtype=object)"
      ]
     },
     "execution_count": 12,
     "metadata": {},
     "output_type": "execute_result"
    },
    {
     "data": {
      "image/png": "[encoded data removed]",
      "text/plain": [
       "<Figure size 3000x1500 with 16 Axes>"
      ]
     },
     "metadata": {},
     "output_type": "display_data"
    }
   ],
   "source": [
    "train_df.hist(list(numeric_cols), bins = 10, alpha = 0.5, figsize = (30,15))"
   ]
  },
  {
   "cell_type": "markdown",
   "metadata": {},
   "source": [
    "From the above histogram visualizations of the numeric features we can see that there are vastly different numerical scales, so we will likely have to perform scaling in the pre-processing step of our machine learning workflow. It also seems based on our observation that there are certain outlier values in the PAY_AMT columns that is causing most values to be put into a single bucket on the lower end of the x-axis."
   ]
  },
  {
   "cell_type": "markdown",
   "metadata": {},
   "source": [
    "##### Visualization #2: Plotting Bar Chart(s) of Categorical Columns"
   ]
  },
  {
   "cell_type": "code",
   "execution_count": 13,
   "metadata": {
    "tags": []
   },
   "outputs": [
    {
     "data": {
      "text/plain": [
       "array([[<AxesSubplot:title={'center':'EDUCATION'}>,\n",
       "        <AxesSubplot:title={'center':'SEX'}>,\n",
       "        <AxesSubplot:title={'center':'PAY_6'}>],\n",
       "       [<AxesSubplot:title={'center':'PAY_5'}>,\n",
       "        <AxesSubplot:title={'center':'PAY_2'}>,\n",
       "        <AxesSubplot:title={'center':'PAY_3'}>],\n",
       "       [<AxesSubplot:title={'center':'PAY_0'}>,\n",
       "        <AxesSubplot:title={'center':'PAY_4'}>,\n",
       "        <AxesSubplot:title={'center':'MARRIAGE'}>]], dtype=object)"
      ]
     },
     "execution_count": 13,
     "metadata": {},
     "output_type": "execute_result"
    },
    {
     "data": {
      "image/png": "[encoded data removed]",
      "text/plain": [
       "<Figure size 2000x1500 with 9 Axes>"
      ]
     },
     "metadata": {},
     "output_type": "display_data"
    }
   ],
   "source": [
    "train_df.hist(list(categorical_cols), bins = 10, alpha = 0.5, figsize = (20,15))"
   ]
  },
  {
   "cell_type": "markdown",
   "metadata": {},
   "source": [
    "From the above bar chart visualizations we can see notice a few interesting trends in our dataset. For one, there are more women in the dataset than men in the SEX feature, and there are a number of undocumented categories in both the MARRIAGE feature (undocumented category 0), and in the EDUCATION feature (two unknown categories 5 and 6 and an undocumented category 0)."
   ]
  },
  {
   "cell_type": "markdown",
   "metadata": {
    "tags": []
   },
   "source": [
    "#### Initial Observations about the Data"
   ]
  },
  {
   "cell_type": "markdown",
   "metadata": {},
   "source": [
    "Summarizing some of our initial observations about the data, we can note that:\n",
    "- There are 14 numerical features (PAY_AMTN, BILL_AMTN, LIMIT_BAL, AGE) , and 9 categorical features (PAY_N, Marriage, and Sex), one of which is also an ordinal feature (Education)\n",
    "- The data has no missing or null values for any of the features \n",
    "- The scales of numerical data are varying, so they need to be scaled. \n",
    "- In the SEX feature, there are more women than men. \n",
    "- In the MARRIAGE feature, there is an undocumented category 0. \n",
    "- In the EDUCATION feature, there are two unknown categories (5 and 6), and an undocumented category 0.\n",
    "- The mean bill amount per client is almost 10x greater, meaning most people are not paying off the full amount of their credit card debt."
   ]
  },
  {
   "cell_type": "markdown",
   "metadata": {
    "tags": []
   },
   "source": [
    "#### Metric(s) for Assessment"
   ]
  },
  {
   "cell_type": "markdown",
   "metadata": {},
   "source": [
    "We should figure out whether accuracy is a good metric for assessing our dataset, or whether we might prefer something like precision or recall. Let's look at the distribution of target classes in our training data:"
   ]
  },
  {
   "cell_type": "code",
   "execution_count": 14,
   "metadata": {},
   "outputs": [
    {
     "data": {
      "text/plain": [
       "0    16312\n",
       "1     4688\n",
       "Name: default.payment.next.month, dtype: int64"
      ]
     },
     "execution_count": 14,
     "metadata": {},
     "output_type": "execute_result"
    }
   ],
   "source": [
    "y_train.value_counts()"
   ]
  },
  {
   "cell_type": "markdown",
   "metadata": {},
   "source": [
    "From the above we can see that in the training data roughly 75% of the target class is composed of clients who did not default on their payments and only 25% is composed of clients who did, so the dataset is somewhat unbalanced. This might suggest we would prefer a measure like recall over accuracy, so that we are actually detecting a good number of positive values (clients who actually default)."
   ]
  },
  {
   "cell_type": "markdown",
   "metadata": {},
   "source": [
    "<!-- END QUESTION -->\n",
    "\n",
    "<br><br>"
   ]
  },
  {
   "cell_type": "markdown",
   "metadata": {},
   "source": [
    "<!-- BEGIN QUESTION -->\n",
    "\n",
    "## (Optional) 4. Feature engineering <a name=\"4\"></a>\n",
    "<hr>\n",
    "rubric={points:1}\n",
    "\n",
    "**Your tasks:**\n",
    "\n",
    "1. Carry out feature engineering. In other words, extract new features relevant for the problem and work with your new feature set in the following exercises. You may have to go back and forth between feature engineering and preprocessing. "
   ]
  },
  {
   "cell_type": "markdown",
   "metadata": {},
   "source": [
    "<div class=\"alert alert-warning\">\n",
    "    \n",
    "Solution_4\n",
    "    \n",
    "</div>"
   ]
  },
  {
   "cell_type": "markdown",
   "metadata": {},
   "source": [
    "We decided to add some features based around aggregating some of the numerical columns as this may lead to better predictions on the validation set. For example, it might be that in some months clients are able to pay off more of their credit balance, while in some months they might accrue more credit debt than in others, so being able to work with features that are aggregates might lead to better outcomes in prediction. We will therefore add a few features to the dataset, including `PAY_AMT_TOTAL`, which sums up all the `PAY_AMT` columns, `PAY_AMT_AVG`, or the average monthly payment made by a client, `BILL_AMT_TOTAL`, which sums up all the `BILL_AMT` columns, and `BILL_AMT_AVG`, the average monthly credit debt accrued by a client."
   ]
  },
  {
   "cell_type": "code",
   "execution_count": 15,
   "metadata": {},
   "outputs": [
    {
     "data": {
      "text/html": [
       "<div>\n",
       "<style scoped>\n",
       "    .dataframe tbody tr th:only-of-type {\n",
       "        vertical-align: middle;\n",
       "    }\n",
       "\n",
       "    .dataframe tbody tr th {\n",
       "        vertical-align: top;\n",
       "    }\n",
       "\n",
       "    .dataframe thead th {\n",
       "        text-align: right;\n",
       "    }\n",
       "</style>\n",
       "<table border=\"1\" class=\"dataframe\">\n",
       "  <thead>\n",
       "    <tr style=\"text-align: right;\">\n",
       "      <th></th>\n",
       "      <th>PAY_AMT1</th>\n",
       "      <th>PAY_AMT2</th>\n",
       "      <th>PAY_AMT3</th>\n",
       "      <th>PAY_AMT4</th>\n",
       "      <th>PAY_AMT5</th>\n",
       "      <th>PAY_AMT6</th>\n",
       "    </tr>\n",
       "  </thead>\n",
       "  <tbody>\n",
       "    <tr>\n",
       "      <th>16395</th>\n",
       "      <td>5000.0</td>\n",
       "      <td>5018.0</td>\n",
       "      <td>1000.0</td>\n",
       "      <td>3000.0</td>\n",
       "      <td>0.0</td>\n",
       "      <td>7013.0</td>\n",
       "    </tr>\n",
       "    <tr>\n",
       "      <th>21448</th>\n",
       "      <td>612.0</td>\n",
       "      <td>87426.0</td>\n",
       "      <td>130007.0</td>\n",
       "      <td>3018.0</td>\n",
       "      <td>15000.0</td>\n",
       "      <td>51663.0</td>\n",
       "    </tr>\n",
       "    <tr>\n",
       "      <th>20034</th>\n",
       "      <td>0.0</td>\n",
       "      <td>0.0</td>\n",
       "      <td>0.0</td>\n",
       "      <td>0.0</td>\n",
       "      <td>0.0</td>\n",
       "      <td>0.0</td>\n",
       "    </tr>\n",
       "    <tr>\n",
       "      <th>25755</th>\n",
       "      <td>3706.0</td>\n",
       "      <td>5502.0</td>\n",
       "      <td>4204.0</td>\n",
       "      <td>3017.0</td>\n",
       "      <td>2005.0</td>\n",
       "      <td>1702.0</td>\n",
       "    </tr>\n",
       "    <tr>\n",
       "      <th>1438</th>\n",
       "      <td>0.0</td>\n",
       "      <td>1400.0</td>\n",
       "      <td>1200.0</td>\n",
       "      <td>1500.0</td>\n",
       "      <td>1000.0</td>\n",
       "      <td>1500.0</td>\n",
       "    </tr>\n",
       "    <tr>\n",
       "      <th>...</th>\n",
       "      <td>...</td>\n",
       "      <td>...</td>\n",
       "      <td>...</td>\n",
       "      <td>...</td>\n",
       "      <td>...</td>\n",
       "      <td>...</td>\n",
       "    </tr>\n",
       "    <tr>\n",
       "      <th>28636</th>\n",
       "      <td>1204.0</td>\n",
       "      <td>1300.0</td>\n",
       "      <td>1242.0</td>\n",
       "      <td>1900.0</td>\n",
       "      <td>0.0</td>\n",
       "      <td>3000.0</td>\n",
       "    </tr>\n",
       "    <tr>\n",
       "      <th>17730</th>\n",
       "      <td>0.0</td>\n",
       "      <td>0.0</td>\n",
       "      <td>2580.0</td>\n",
       "      <td>0.0</td>\n",
       "      <td>6941.0</td>\n",
       "      <td>0.0</td>\n",
       "    </tr>\n",
       "    <tr>\n",
       "      <th>28030</th>\n",
       "      <td>2002.0</td>\n",
       "      <td>2000.0</td>\n",
       "      <td>1530.0</td>\n",
       "      <td>1000.0</td>\n",
       "      <td>327.0</td>\n",
       "      <td>329.0</td>\n",
       "    </tr>\n",
       "    <tr>\n",
       "      <th>15725</th>\n",
       "      <td>2000.0</td>\n",
       "      <td>2000.0</td>\n",
       "      <td>2000.0</td>\n",
       "      <td>1765.0</td>\n",
       "      <td>331.0</td>\n",
       "      <td>0.0</td>\n",
       "    </tr>\n",
       "    <tr>\n",
       "      <th>19966</th>\n",
       "      <td>25794.0</td>\n",
       "      <td>3007.0</td>\n",
       "      <td>4305.0</td>\n",
       "      <td>3737.0</td>\n",
       "      <td>2290.0</td>\n",
       "      <td>22259.0</td>\n",
       "    </tr>\n",
       "  </tbody>\n",
       "</table>\n",
       "<p>21000 rows × 6 columns</p>\n",
       "</div>"
      ],
      "text/plain": [
       "       PAY_AMT1  PAY_AMT2  PAY_AMT3  PAY_AMT4  PAY_AMT5  PAY_AMT6\n",
       "16395    5000.0    5018.0    1000.0    3000.0       0.0    7013.0\n",
       "21448     612.0   87426.0  130007.0    3018.0   15000.0   51663.0\n",
       "20034       0.0       0.0       0.0       0.0       0.0       0.0\n",
       "25755    3706.0    5502.0    4204.0    3017.0    2005.0    1702.0\n",
       "1438        0.0    1400.0    1200.0    1500.0    1000.0    1500.0\n",
       "...         ...       ...       ...       ...       ...       ...\n",
       "28636    1204.0    1300.0    1242.0    1900.0       0.0    3000.0\n",
       "17730       0.0       0.0    2580.0       0.0    6941.0       0.0\n",
       "28030    2002.0    2000.0    1530.0    1000.0     327.0     329.0\n",
       "15725    2000.0    2000.0    2000.0    1765.0     331.0       0.0\n",
       "19966   25794.0    3007.0    4305.0    3737.0    2290.0   22259.0\n",
       "\n",
       "[21000 rows x 6 columns]"
      ]
     },
     "execution_count": 15,
     "metadata": {},
     "output_type": "execute_result"
    }
   ],
   "source": [
    "X_train.iloc[:,18:24]"
   ]
  },
  {
   "cell_type": "code",
   "execution_count": 16,
   "metadata": {},
   "outputs": [
    {
     "data": {
      "text/plain": [
       "<bound method NDFrame.head of           ID  LIMIT_BAL  SEX  EDUCATION  MARRIAGE  AGE  PAY_0  PAY_2  PAY_3  \\\n",
       "16395  16396   320000.0    2          1         2   36      0      0      0   \n",
       "21448  21449   440000.0    2          1         2   30     -1     -1     -1   \n",
       "20034  20035   160000.0    2          3         1   44     -2     -2     -2   \n",
       "25755  25756   120000.0    2          2         1   30      0      0      0   \n",
       "1438    1439    50000.0    1          2         2   54      1      2      0   \n",
       "...      ...        ...  ...        ...       ...  ...    ...    ...    ...   \n",
       "28636  28637   380000.0    2          2         1   37      0      0      0   \n",
       "17730  17731   360000.0    2          1         1   54      1     -2     -2   \n",
       "28030  28031    50000.0    2          3         1   29      0      0      0   \n",
       "15725  15726    30000.0    2          2         2   21      0      0      0   \n",
       "19966  19967   370000.0    2          1         1   36     -2     -2     -2   \n",
       "\n",
       "       PAY_4  ...  PAY_AMT1  PAY_AMT2  PAY_AMT3  PAY_AMT4  PAY_AMT5  PAY_AMT6  \\\n",
       "16395      0  ...    5000.0    5018.0    1000.0    3000.0       0.0    7013.0   \n",
       "21448      0  ...     612.0   87426.0  130007.0    3018.0   15000.0   51663.0   \n",
       "20034     -2  ...       0.0       0.0       0.0       0.0       0.0       0.0   \n",
       "25755      0  ...    3706.0    5502.0    4204.0    3017.0    2005.0    1702.0   \n",
       "1438       0  ...       0.0    1400.0    1200.0    1500.0    1000.0    1500.0   \n",
       "...      ...  ...       ...       ...       ...       ...       ...       ...   \n",
       "28636      0  ...    1204.0    1300.0    1242.0    1900.0       0.0    3000.0   \n",
       "17730     -1  ...       0.0       0.0    2580.0       0.0    6941.0       0.0   \n",
       "28030      0  ...    2002.0    2000.0    1530.0    1000.0     327.0     329.0   \n",
       "15725      0  ...    2000.0    2000.0    2000.0    1765.0     331.0       0.0   \n",
       "19966     -2  ...   25794.0    3007.0    4305.0    3737.0    2290.0   22259.0   \n",
       "\n",
       "       PAY_AMT_TOTAL   PAY_AMT_AVG  BILL_AMT_TOTAL  BILL_AMT_AVG  \n",
       "16395        21031.0   3505.166667        119213.0  19868.833333  \n",
       "21448       287726.0  47954.333333        528826.0  88137.666667  \n",
       "20034            0.0      0.000000          -108.0    -18.000000  \n",
       "25755        20136.0   3356.000000        530682.0  88447.000000  \n",
       "1438          6600.0   1100.000000        205081.0  34180.166667  \n",
       "...              ...           ...             ...           ...  \n",
       "28636         8646.0   1441.000000         86869.0  14478.166667  \n",
       "17730         9521.0   1586.833333         12101.0   2016.833333  \n",
       "28030         7188.0   1198.000000        199605.0  33267.500000  \n",
       "15725         8096.0   1349.333333        163214.0  27202.333333  \n",
       "19966        61392.0  10232.000000         41858.0   6976.333333  \n",
       "\n",
       "[21000 rows x 28 columns]>"
      ]
     },
     "execution_count": 16,
     "metadata": {},
     "output_type": "execute_result"
    }
   ],
   "source": [
    "X_train[\"PAY_AMT_TOTAL\"] = X_train.iloc[:,18:24].sum(axis=1)\n",
    "X_train[\"PAY_AMT_AVG\"] = X_train[\"PAY_AMT_TOTAL\"]/6\n",
    "\n",
    "X_train[\"BILL_AMT_TOTAL\"] = X_train.iloc[:,12:18].sum(axis=1)\n",
    "X_train[\"BILL_AMT_AVG\"] = X_train[\"BILL_AMT_TOTAL\"]/6\n",
    "\n",
    "X_train.head"
   ]
  },
  {
   "cell_type": "markdown",
   "metadata": {},
   "source": [
    "<!-- END QUESTION -->\n",
    "\n",
    "<br><br>"
   ]
  },
  {
   "cell_type": "markdown",
   "metadata": {},
   "source": [
    "<!-- BEGIN QUESTION -->\n",
    "\n",
    "## 5. Preprocessing and transformations <a name=\"5\"></a>\n",
    "<hr>\n",
    "rubric={points:10}\n",
    "\n",
    "**Your tasks:**\n",
    "\n",
    "1. Identify different feature types and the transformations you would apply on each feature type. \n",
    "2. Define a column transformer, if necessary. "
   ]
  },
  {
   "cell_type": "markdown",
   "metadata": {},
   "source": [
    "<div class=\"alert alert-warning\">\n",
    "    \n",
    "Solution_5\n",
    "    \n",
    "</div>"
   ]
  },
  {
   "cell_type": "markdown",
   "metadata": {},
   "source": [
    "#### Identify Necessary Transformations"
   ]
  },
  {
   "cell_type": "markdown",
   "metadata": {},
   "source": [
    "Below are the features, their types, and the transformations we would apply to them. \n",
    "\n",
    "|Feature     |Feature Type| Transformation|\n",
    "|----------  |------------|---------------|\n",
    "|ID          |Numeric     |DROP           |\n",
    "|LIMIT_BAL   |Numeric     |Scale          |\n",
    "|AGE         |Numeric     |Scale          |\n",
    "|BILL_N      |Numeric     |Scale          |\n",
    "|PAY_AMT_N   |Numeric     |Scale          |\n",
    "|SEX         |Categorical |OHE - Binary Encoding|\n",
    "|EDUCATION   |Ordinal     |Ordinal Encoding|\n",
    "|MARRIAGE    |Categorical |OHE            |\n",
    "|PAY_N       |Categorical |OHE            |"
   ]
  },
  {
   "cell_type": "markdown",
   "metadata": {
    "tags": []
   },
   "source": [
    "#### Conduct Transformations"
   ]
  },
  {
   "cell_type": "markdown",
   "metadata": {},
   "source": [
    "##### Data Cleaning\n",
    "When looking at unique values of the columns EDUCATION, MARRIAGE, and the PAY_n, we see that there are 0s in the columns that are not explained in the data dictionary. Moreover, EDUCATION has category 5 and 6 that are unlabeled. \n",
    "Furthermore, according to the data dictionary, the PAY_n variables indicate the number of months of delay and indicates \"pay duly\" with -1. However, there are two categories, -2 and 0, that are unlabeled.\n",
    "\n",
    "- For the EDUCATION feature, categories 0,5, and 6 will be grouped with category 4, the \"others\" category. \n",
    "- For the MARRIAGE feature, category will be grouped with category 3, the \"others\" category.\n",
    "- For the PAY_N columns, the PAY_0 column will be renamed to PAY_1, and the categories 0,-1, and -2 for all the PAY-n columns will be grouped into category 0, the \"pay duly\" category."
   ]
  },
  {
   "cell_type": "code",
   "execution_count": 17,
   "metadata": {},
   "outputs": [
    {
     "name": "stdout",
     "output_type": "stream",
     "text": [
      "2    9815\n",
      "1    7433\n",
      "3    3416\n",
      "5     210\n",
      "4      81\n",
      "6      35\n",
      "0      10\n",
      "Name: EDUCATION, dtype: int64\n",
      "2    11210\n",
      "1     9527\n",
      "3      229\n",
      "0       34\n",
      "Name: MARRIAGE, dtype: int64\n",
      " 0    10321\n",
      "-1     4043\n",
      " 1     2571\n",
      "-2     1879\n",
      " 2     1856\n",
      " 3      233\n",
      " 4       49\n",
      " 5       20\n",
      " 8       11\n",
      " 7        9\n",
      " 6        8\n",
      "Name: PAY_0, dtype: int64\n",
      " 0    11021\n",
      "-1     4284\n",
      " 2     2708\n",
      "-2     2627\n",
      " 3      236\n",
      " 4       67\n",
      " 5       19\n",
      " 1       14\n",
      " 7       12\n",
      " 6       11\n",
      " 8        1\n",
      "Name: PAY_2, dtype: int64\n",
      " 0    11026\n",
      "-1     4168\n",
      "-2     2883\n",
      " 2     2649\n",
      " 3      165\n",
      " 4       54\n",
      " 7       19\n",
      " 6       15\n",
      " 5       14\n",
      " 1        4\n",
      " 8        3\n",
      "Name: PAY_3, dtype: int64\n",
      " 0    11518\n",
      "-1     3998\n",
      "-2     3058\n",
      " 2     2171\n",
      " 3      131\n",
      " 4       51\n",
      " 7       40\n",
      " 5       25\n",
      " 6        5\n",
      " 1        2\n",
      " 8        1\n",
      "Name: PAY_4, dtype: int64\n",
      " 0    11831\n",
      "-1     3892\n",
      "-2     3182\n",
      " 2     1842\n",
      " 3      136\n",
      " 4       59\n",
      " 7       39\n",
      " 5       14\n",
      " 6        4\n",
      " 8        1\n",
      "Name: PAY_5, dtype: int64\n",
      " 0    11377\n",
      "-1     4065\n",
      "-2     3425\n",
      " 2     1907\n",
      " 3      133\n",
      " 4       38\n",
      " 7       30\n",
      " 6       12\n",
      " 5       11\n",
      " 8        2\n",
      "Name: PAY_6, dtype: int64\n"
     ]
    }
   ],
   "source": [
    "# Below, we observe the unlabled categories in each of these features\n",
    "\n",
    "# Unique Values in EDUCATION column\n",
    "print(train_df[\"EDUCATION\"].value_counts())\n",
    "\n",
    "# Unique Values in MARRIAGE column\n",
    "print(train_df[\"MARRIAGE\"].value_counts())\n",
    "\n",
    "# Unique values in PAY_0 Column\n",
    "print(train_df[\"PAY_0\"].value_counts())\n",
    "\n",
    "# Unique values in PAY_2 Column\n",
    "print(train_df[\"PAY_2\"].value_counts())\n",
    "\n",
    "# Unique values in PAY_3 Column\n",
    "print(train_df[\"PAY_3\"].value_counts())\n",
    "\n",
    "# Unique values in PAY_4 Column\n",
    "print(train_df[\"PAY_4\"].value_counts())\n",
    "\n",
    "# Unique values in PAY_5 Column\n",
    "print(train_df[\"PAY_5\"].value_counts())\n",
    "\n",
    "# Unique values in PAY_6 Column\n",
    "print(train_df[\"PAY_6\"].value_counts())"
   ]
  },
  {
   "cell_type": "code",
   "execution_count": 18,
   "metadata": {},
   "outputs": [
    {
     "name": "stdout",
     "output_type": "stream",
     "text": [
      "2    9815\n",
      "1    7433\n",
      "3    3416\n",
      "4     336\n",
      "Name: EDUCATION, dtype: int64\n",
      "2    11210\n",
      "1     9527\n",
      "3      263\n",
      "Name: MARRIAGE, dtype: int64\n",
      "0    16243\n",
      "1     2571\n",
      "2     1856\n",
      "3      233\n",
      "4       49\n",
      "5       20\n",
      "8       11\n",
      "7        9\n",
      "6        8\n",
      "Name: PAY_1, dtype: int64\n",
      "0    17932\n",
      "2     2708\n",
      "3      236\n",
      "4       67\n",
      "5       19\n",
      "1       14\n",
      "7       12\n",
      "6       11\n",
      "8        1\n",
      "Name: PAY_2, dtype: int64\n",
      "0    18077\n",
      "2     2649\n",
      "3      165\n",
      "4       54\n",
      "7       19\n",
      "6       15\n",
      "5       14\n",
      "1        4\n",
      "8        3\n",
      "Name: PAY_3, dtype: int64\n",
      "0    18574\n",
      "2     2171\n",
      "3      131\n",
      "4       51\n",
      "7       40\n",
      "5       25\n",
      "6        5\n",
      "1        2\n",
      "8        1\n",
      "Name: PAY_4, dtype: int64\n",
      "0    18905\n",
      "2     1842\n",
      "3      136\n",
      "4       59\n",
      "7       39\n",
      "5       14\n",
      "6        4\n",
      "8        1\n",
      "Name: PAY_5, dtype: int64\n",
      "0    18867\n",
      "2     1907\n",
      "3      133\n",
      "4       38\n",
      "7       30\n",
      "6       12\n",
      "5       11\n",
      "8        2\n",
      "Name: PAY_6, dtype: int64\n"
     ]
    }
   ],
   "source": [
    "# Rename PAY_0 to PAY_1\n",
    "train_df = train_df.rename(columns={'PAY_0': 'PAY_1'})\n",
    "X_train = X_train.rename(columns={'PAY_0': 'PAY_1'})\n",
    "X_test = X_test.rename(columns={'PAY_0' : 'PAY_1'})\n",
    "\n",
    "# Group EDUCATION categories 0, 5, 6 into category 4 (others)\n",
    "replace_education_values = (train_df.EDUCATION == 5) | (train_df.EDUCATION == 6) | (train_df.EDUCATION == 0)\n",
    "train_df.loc[replace_education_values, 'EDUCATION'] = 4\n",
    "print(train_df.EDUCATION.value_counts())\n",
    "\n",
    "# Group MARRIAGE categories 0 and 3 into category 3 (others)\n",
    "replace_marriage_values = (train_df.MARRIAGE == 0)\n",
    "train_df.loc[replace_marriage_values, 'MARRIAGE'] = 3\n",
    "print(train_df.MARRIAGE.value_counts())\n",
    "\n",
    "# Change the category for pay duly to 0 and group 0,-1,and -2 together for all PAY_n features\n",
    "\n",
    "replace_pay1_values = (train_df.PAY_1 == -2) | (train_df.PAY_1 == -1) | (train_df.PAY_1 == 0)\n",
    "train_df.loc[replace_pay1_values, 'PAY_1'] = 0\n",
    "\n",
    "replace_pay2_values = (train_df.PAY_2 == -2) | (train_df.PAY_2 == -1) | (train_df.PAY_2 == 0)\n",
    "train_df.loc[replace_pay2_values, 'PAY_2'] = 0\n",
    "\n",
    "replace_pay3_values= (train_df.PAY_3 == -2) | (train_df.PAY_3 == -1) | (train_df.PAY_3 == 0)\n",
    "train_df.loc[replace_pay3_values, 'PAY_3'] = 0\n",
    "\n",
    "replace_pay4_values = (train_df.PAY_4 == -2) | (train_df.PAY_4 == -1) | (train_df.PAY_4 == 0)\n",
    "train_df.loc[replace_pay4_values, 'PAY_4'] = 0\n",
    "\n",
    "replace_pay5_values = (train_df.PAY_5 == -2) | (train_df.PAY_5 == -1) | (train_df.PAY_5 == 0)\n",
    "train_df.loc[replace_pay5_values, 'PAY_5'] = 0\n",
    "\n",
    "replace_pay6_values = (train_df.PAY_6 == -2) | (train_df.PAY_6 == -1) | (train_df.PAY_6 == 0)\n",
    "train_df.loc[replace_pay6_values, 'PAY_6'] = 0\n",
    "\n",
    "print(train_df.PAY_1.value_counts())\n",
    "print(train_df.PAY_2.value_counts())\n",
    "print(train_df.PAY_3.value_counts())\n",
    "print(train_df.PAY_4.value_counts())\n",
    "print(train_df.PAY_5.value_counts())\n",
    "print(train_df.PAY_6.value_counts())"
   ]
  },
  {
   "cell_type": "markdown",
   "metadata": {},
   "source": [
    "##### Data Preprocessing using Column Transformer\n",
    "\n",
    "Now, we will preprocess our data using a column transformer. First, we split our columns into groups according to the transformations they will be undergoing."
   ]
  },
  {
   "cell_type": "code",
   "execution_count": 19,
   "metadata": {},
   "outputs": [],
   "source": [
    "numeric_feats = [\"LIMIT_BAL\", \n",
    "                 \"AGE\", \n",
    "                 \"BILL_AMT1\", \"BILL_AMT2\", \"BILL_AMT3\", \"BILL_AMT4\", \"BILL_AMT5\", \"BILL_AMT6\",\n",
    "                 \"PAY_AMT1\", \"PAY_AMT2\", \"PAY_AMT3\", \"PAY_AMT4\", \"PAY_AMT5\", \"PAY_AMT6\"\n",
    "                ]  # apply scaling\n",
    "\n",
    "categorical_feats = [\"MARRIAGE\", \"PAY_1\", \"PAY_2\", \"PAY_3\", \"PAY_4\", \"PAY_5\", \"PAY_6\"]  # apply one-hot encoding\n",
    "\n",
    "binary_feats = [\"SEX\"] # apply binary encoding\n",
    "\n",
    "ordinal_feats = [\"EDUCATION\"] # apply ordinal encoding\n",
    "\n",
    "drop_feats = ['ID']  # do not include these features in modeling"
   ]
  },
  {
   "cell_type": "markdown",
   "metadata": {},
   "source": [
    "Now, we create the transformers and pass them into make_column_transformer to create the column transformer."
   ]
  },
  {
   "cell_type": "code",
   "execution_count": 20,
   "metadata": {},
   "outputs": [
    {
     "data": {
      "text/html": [
       "<style>#sk-container-id-1 {color: black;background-color: white;}#sk-container-id-1 pre{padding: 0;}#sk-container-id-1 div.sk-toggleable {background-color: white;}#sk-container-id-1 label.sk-toggleable__label {cursor: pointer;display: block;width: 100%;margin-bottom: 0;padding: 0.3em;box-sizing: border-box;text-align: center;}#sk-container-id-1 label.sk-toggleable__label-arrow:before {content: \"▸\";float: left;margin-right: 0.25em;color: #696969;}#sk-container-id-1 label.sk-toggleable__label-arrow:hover:before {color: black;}#sk-container-id-1 div.sk-estimator:hover label.sk-toggleable__label-arrow:before {color: black;}#sk-container-id-1 div.sk-toggleable__content {max-height: 0;max-width: 0;overflow: hidden;text-align: left;background-color: #f0f8ff;}#sk-container-id-1 div.sk-toggleable__content pre {margin: 0.2em;color: black;border-radius: 0.25em;background-color: #f0f8ff;}#sk-container-id-1 input.sk-toggleable__control:checked~div.sk-toggleable__content {max-height: 200px;max-width: 100%;overflow: auto;}#sk-container-id-1 input.sk-toggleable__control:checked~label.sk-toggleable__label-arrow:before {content: \"▾\";}#sk-container-id-1 div.sk-estimator input.sk-toggleable__control:checked~label.sk-toggleable__label {background-color: #d4ebff;}#sk-container-id-1 div.sk-label input.sk-toggleable__control:checked~label.sk-toggleable__label {background-color: #d4ebff;}#sk-container-id-1 input.sk-hidden--visually {border: 0;clip: rect(1px 1px 1px 1px);clip: rect(1px, 1px, 1px, 1px);height: 1px;margin: -1px;overflow: hidden;padding: 0;position: absolute;width: 1px;}#sk-container-id-1 div.sk-estimator {font-family: monospace;background-color: #f0f8ff;border: 1px dotted black;border-radius: 0.25em;box-sizing: border-box;margin-bottom: 0.5em;}#sk-container-id-1 div.sk-estimator:hover {background-color: #d4ebff;}#sk-container-id-1 div.sk-parallel-item::after {content: \"\";width: 100%;border-bottom: 1px solid gray;flex-grow: 1;}#sk-container-id-1 div.sk-label:hover label.sk-toggleable__label {background-color: #d4ebff;}#sk-container-id-1 div.sk-serial::before {content: \"\";position: absolute;border-left: 1px solid gray;box-sizing: border-box;top: 0;bottom: 0;left: 50%;z-index: 0;}#sk-container-id-1 div.sk-serial {display: flex;flex-direction: column;align-items: center;background-color: white;padding-right: 0.2em;padding-left: 0.2em;position: relative;}#sk-container-id-1 div.sk-item {position: relative;z-index: 1;}#sk-container-id-1 div.sk-parallel {display: flex;align-items: stretch;justify-content: center;background-color: white;position: relative;}#sk-container-id-1 div.sk-item::before, #sk-container-id-1 div.sk-parallel-item::before {content: \"\";position: absolute;border-left: 1px solid gray;box-sizing: border-box;top: 0;bottom: 0;left: 50%;z-index: -1;}#sk-container-id-1 div.sk-parallel-item {display: flex;flex-direction: column;z-index: 1;position: relative;background-color: white;}#sk-container-id-1 div.sk-parallel-item:first-child::after {align-self: flex-end;width: 50%;}#sk-container-id-1 div.sk-parallel-item:last-child::after {align-self: flex-start;width: 50%;}#sk-container-id-1 div.sk-parallel-item:only-child::after {width: 0;}#sk-container-id-1 div.sk-dashed-wrapped {border: 1px dashed gray;margin: 0 0.4em 0.5em 0.4em;box-sizing: border-box;padding-bottom: 0.4em;background-color: white;}#sk-container-id-1 div.sk-label label {font-family: monospace;font-weight: bold;display: inline-block;line-height: 1.2em;}#sk-container-id-1 div.sk-label-container {text-align: center;}#sk-container-id-1 div.sk-container {/* jupyter's `normalize.less` sets `[hidden] { display: none; }` but bootstrap.min.css set `[hidden] { display: none !important; }` so we also need the `!important` here to be able to override the default hidden behavior on the sphinx rendered scikit-learn.org. See: https://github.com/scikit-learn/scikit-learn/issues/21755 */display: inline-block !important;position: relative;}#sk-container-id-1 div.sk-text-repr-fallback {display: none;}</style><div id=\"sk-container-id-1\" class=\"sk-top-container\"><div class=\"sk-text-repr-fallback\"><pre>ColumnTransformer(transformers=[(&#x27;standardscaler&#x27;, StandardScaler(),\n",
       "                                 [&#x27;LIMIT_BAL&#x27;, &#x27;AGE&#x27;, &#x27;BILL_AMT1&#x27;, &#x27;BILL_AMT2&#x27;,\n",
       "                                  &#x27;BILL_AMT3&#x27;, &#x27;BILL_AMT4&#x27;, &#x27;BILL_AMT5&#x27;,\n",
       "                                  &#x27;BILL_AMT6&#x27;, &#x27;PAY_AMT1&#x27;, &#x27;PAY_AMT2&#x27;,\n",
       "                                  &#x27;PAY_AMT3&#x27;, &#x27;PAY_AMT4&#x27;, &#x27;PAY_AMT5&#x27;,\n",
       "                                  &#x27;PAY_AMT6&#x27;]),\n",
       "                                (&#x27;onehotencoder-1&#x27;,\n",
       "                                 OneHotEncoder(drop=&#x27;if_binary&#x27;,\n",
       "                                               dtype=&lt;class &#x27;int&#x27;&gt;,\n",
       "                                               sparse=False),\n",
       "                                 [&#x27;SEX&#x27;]),\n",
       "                                (&#x27;ordinalencoder&#x27;, OrdinalEncoder(),\n",
       "                                 [&#x27;EDUCATION&#x27;]),\n",
       "                                (&#x27;onehotencoder-2&#x27;,\n",
       "                                 OneHotEncoder(handle_unknown=&#x27;ignore&#x27;,\n",
       "                                               sparse=False),\n",
       "                                 [&#x27;MARRIAGE&#x27;, &#x27;PAY_1&#x27;, &#x27;PAY_2&#x27;, &#x27;PAY_3&#x27;,\n",
       "                                  &#x27;PAY_4&#x27;, &#x27;PAY_5&#x27;, &#x27;PAY_6&#x27;]),\n",
       "                                (&#x27;drop&#x27;, &#x27;drop&#x27;, [&#x27;ID&#x27;])])</pre><b>In a Jupyter environment, please rerun this cell to show the HTML representation or trust the notebook. <br />On GitHub, the HTML representation is unable to render, please try loading this page with nbviewer.org.</b></div><div class=\"sk-container\" hidden><div class=\"sk-item sk-dashed-wrapped\"><div class=\"sk-label-container\"><div class=\"sk-label sk-toggleable\"><input class=\"sk-toggleable__control sk-hidden--visually\" id=\"sk-estimator-id-1\" type=\"checkbox\" ><label for=\"sk-estimator-id-1\" class=\"sk-toggleable__label sk-toggleable__label-arrow\">ColumnTransformer</label><div class=\"sk-toggleable__content\"><pre>ColumnTransformer(transformers=[(&#x27;standardscaler&#x27;, StandardScaler(),\n",
       "                                 [&#x27;LIMIT_BAL&#x27;, &#x27;AGE&#x27;, &#x27;BILL_AMT1&#x27;, &#x27;BILL_AMT2&#x27;,\n",
       "                                  &#x27;BILL_AMT3&#x27;, &#x27;BILL_AMT4&#x27;, &#x27;BILL_AMT5&#x27;,\n",
       "                                  &#x27;BILL_AMT6&#x27;, &#x27;PAY_AMT1&#x27;, &#x27;PAY_AMT2&#x27;,\n",
       "                                  &#x27;PAY_AMT3&#x27;, &#x27;PAY_AMT4&#x27;, &#x27;PAY_AMT5&#x27;,\n",
       "                                  &#x27;PAY_AMT6&#x27;]),\n",
       "                                (&#x27;onehotencoder-1&#x27;,\n",
       "                                 OneHotEncoder(drop=&#x27;if_binary&#x27;,\n",
       "                                               dtype=&lt;class &#x27;int&#x27;&gt;,\n",
       "                                               sparse=False),\n",
       "                                 [&#x27;SEX&#x27;]),\n",
       "                                (&#x27;ordinalencoder&#x27;, OrdinalEncoder(),\n",
       "                                 [&#x27;EDUCATION&#x27;]),\n",
       "                                (&#x27;onehotencoder-2&#x27;,\n",
       "                                 OneHotEncoder(handle_unknown=&#x27;ignore&#x27;,\n",
       "                                               sparse=False),\n",
       "                                 [&#x27;MARRIAGE&#x27;, &#x27;PAY_1&#x27;, &#x27;PAY_2&#x27;, &#x27;PAY_3&#x27;,\n",
       "                                  &#x27;PAY_4&#x27;, &#x27;PAY_5&#x27;, &#x27;PAY_6&#x27;]),\n",
       "                                (&#x27;drop&#x27;, &#x27;drop&#x27;, [&#x27;ID&#x27;])])</pre></div></div></div><div class=\"sk-parallel\"><div class=\"sk-parallel-item\"><div class=\"sk-item\"><div class=\"sk-label-container\"><div class=\"sk-label sk-toggleable\"><input class=\"sk-toggleable__control sk-hidden--visually\" id=\"sk-estimator-id-2\" type=\"checkbox\" ><label for=\"sk-estimator-id-2\" class=\"sk-toggleable__label sk-toggleable__label-arrow\">standardscaler</label><div class=\"sk-toggleable__content\"><pre>[&#x27;LIMIT_BAL&#x27;, &#x27;AGE&#x27;, &#x27;BILL_AMT1&#x27;, &#x27;BILL_AMT2&#x27;, &#x27;BILL_AMT3&#x27;, &#x27;BILL_AMT4&#x27;, &#x27;BILL_AMT5&#x27;, &#x27;BILL_AMT6&#x27;, &#x27;PAY_AMT1&#x27;, &#x27;PAY_AMT2&#x27;, &#x27;PAY_AMT3&#x27;, &#x27;PAY_AMT4&#x27;, &#x27;PAY_AMT5&#x27;, &#x27;PAY_AMT6&#x27;]</pre></div></div></div><div class=\"sk-serial\"><div class=\"sk-item\"><div class=\"sk-estimator sk-toggleable\"><input class=\"sk-toggleable__control sk-hidden--visually\" id=\"sk-estimator-id-3\" type=\"checkbox\" ><label for=\"sk-estimator-id-3\" class=\"sk-toggleable__label sk-toggleable__label-arrow\">StandardScaler</label><div class=\"sk-toggleable__content\"><pre>StandardScaler()</pre></div></div></div></div></div></div><div class=\"sk-parallel-item\"><div class=\"sk-item\"><div class=\"sk-label-container\"><div class=\"sk-label sk-toggleable\"><input class=\"sk-toggleable__control sk-hidden--visually\" id=\"sk-estimator-id-4\" type=\"checkbox\" ><label for=\"sk-estimator-id-4\" class=\"sk-toggleable__label sk-toggleable__label-arrow\">onehotencoder-1</label><div class=\"sk-toggleable__content\"><pre>[&#x27;SEX&#x27;]</pre></div></div></div><div class=\"sk-serial\"><div class=\"sk-item\"><div class=\"sk-estimator sk-toggleable\"><input class=\"sk-toggleable__control sk-hidden--visually\" id=\"sk-estimator-id-5\" type=\"checkbox\" ><label for=\"sk-estimator-id-5\" class=\"sk-toggleable__label sk-toggleable__label-arrow\">OneHotEncoder</label><div class=\"sk-toggleable__content\"><pre>OneHotEncoder(drop=&#x27;if_binary&#x27;, dtype=&lt;class &#x27;int&#x27;&gt;, sparse=False)</pre></div></div></div></div></div></div><div class=\"sk-parallel-item\"><div class=\"sk-item\"><div class=\"sk-label-container\"><div class=\"sk-label sk-toggleable\"><input class=\"sk-toggleable__control sk-hidden--visually\" id=\"sk-estimator-id-6\" type=\"checkbox\" ><label for=\"sk-estimator-id-6\" class=\"sk-toggleable__label sk-toggleable__label-arrow\">ordinalencoder</label><div class=\"sk-toggleable__content\"><pre>[&#x27;EDUCATION&#x27;]</pre></div></div></div><div class=\"sk-serial\"><div class=\"sk-item\"><div class=\"sk-estimator sk-toggleable\"><input class=\"sk-toggleable__control sk-hidden--visually\" id=\"sk-estimator-id-7\" type=\"checkbox\" ><label for=\"sk-estimator-id-7\" class=\"sk-toggleable__label sk-toggleable__label-arrow\">OrdinalEncoder</label><div class=\"sk-toggleable__content\"><pre>OrdinalEncoder()</pre></div></div></div></div></div></div><div class=\"sk-parallel-item\"><div class=\"sk-item\"><div class=\"sk-label-container\"><div class=\"sk-label sk-toggleable\"><input class=\"sk-toggleable__control sk-hidden--visually\" id=\"sk-estimator-id-8\" type=\"checkbox\" ><label for=\"sk-estimator-id-8\" class=\"sk-toggleable__label sk-toggleable__label-arrow\">onehotencoder-2</label><div class=\"sk-toggleable__content\"><pre>[&#x27;MARRIAGE&#x27;, &#x27;PAY_1&#x27;, &#x27;PAY_2&#x27;, &#x27;PAY_3&#x27;, &#x27;PAY_4&#x27;, &#x27;PAY_5&#x27;, &#x27;PAY_6&#x27;]</pre></div></div></div><div class=\"sk-serial\"><div class=\"sk-item\"><div class=\"sk-estimator sk-toggleable\"><input class=\"sk-toggleable__control sk-hidden--visually\" id=\"sk-estimator-id-9\" type=\"checkbox\" ><label for=\"sk-estimator-id-9\" class=\"sk-toggleable__label sk-toggleable__label-arrow\">OneHotEncoder</label><div class=\"sk-toggleable__content\"><pre>OneHotEncoder(handle_unknown=&#x27;ignore&#x27;, sparse=False)</pre></div></div></div></div></div></div><div class=\"sk-parallel-item\"><div class=\"sk-item\"><div class=\"sk-label-container\"><div class=\"sk-label sk-toggleable\"><input class=\"sk-toggleable__control sk-hidden--visually\" id=\"sk-estimator-id-10\" type=\"checkbox\" ><label for=\"sk-estimator-id-10\" class=\"sk-toggleable__label sk-toggleable__label-arrow\">drop</label><div class=\"sk-toggleable__content\"><pre>[&#x27;ID&#x27;]</pre></div></div></div><div class=\"sk-serial\"><div class=\"sk-item\"><div class=\"sk-estimator sk-toggleable\"><input class=\"sk-toggleable__control sk-hidden--visually\" id=\"sk-estimator-id-11\" type=\"checkbox\" ><label for=\"sk-estimator-id-11\" class=\"sk-toggleable__label sk-toggleable__label-arrow\">drop</label><div class=\"sk-toggleable__content\"><pre>drop</pre></div></div></div></div></div></div></div></div></div></div>"
      ],
      "text/plain": [
       "ColumnTransformer(transformers=[('standardscaler', StandardScaler(),\n",
       "                                 ['LIMIT_BAL', 'AGE', 'BILL_AMT1', 'BILL_AMT2',\n",
       "                                  'BILL_AMT3', 'BILL_AMT4', 'BILL_AMT5',\n",
       "                                  'BILL_AMT6', 'PAY_AMT1', 'PAY_AMT2',\n",
       "                                  'PAY_AMT3', 'PAY_AMT4', 'PAY_AMT5',\n",
       "                                  'PAY_AMT6']),\n",
       "                                ('onehotencoder-1',\n",
       "                                 OneHotEncoder(drop='if_binary',\n",
       "                                               dtype=<class 'int'>,\n",
       "                                               sparse=False),\n",
       "                                 ['SEX']),\n",
       "                                ('ordinalencoder', OrdinalEncoder(),\n",
       "                                 ['EDUCATION']),\n",
       "                                ('onehotencoder-2',\n",
       "                                 OneHotEncoder(handle_unknown='ignore',\n",
       "                                               sparse=False),\n",
       "                                 ['MARRIAGE', 'PAY_1', 'PAY_2', 'PAY_3',\n",
       "                                  'PAY_4', 'PAY_5', 'PAY_6']),\n",
       "                                ('drop', 'drop', ['ID'])])"
      ]
     },
     "execution_count": 20,
     "metadata": {},
     "output_type": "execute_result"
    }
   ],
   "source": [
    "# Individual Transformers\n",
    "\n",
    "numeric_transformer = StandardScaler()\n",
    "\n",
    "binary_transformer = OneHotEncoder(drop=\"if_binary\", dtype=int, sparse=False)\n",
    "\n",
    "ordinal_transformer = OrdinalEncoder()\n",
    "\n",
    "categorical_transformer = OneHotEncoder(handle_unknown=\"ignore\", sparse = False) \n",
    "\n",
    "# Column Transformer\n",
    "column_transformer = make_column_transformer(    \n",
    "    (numeric_transformer, numeric_feats),  \n",
    "    (binary_transformer, binary_feats),\n",
    "    (ordinal_transformer, ordinal_feats), \n",
    "    (categorical_transformer, categorical_feats),  \n",
    "    (\"drop\", drop_feats), \n",
    ")\n",
    "\n",
    "column_transformer.fit_transform(X_train)\n",
    "column_transformer.transform(X_test)\n",
    "\n",
    "column_transformer"
   ]
  },
  {
   "cell_type": "markdown",
   "metadata": {},
   "source": [
    "<!-- END QUESTION -->\n",
    "\n",
    "<br><br>"
   ]
  },
  {
   "cell_type": "markdown",
   "metadata": {},
   "source": [
    "<!-- BEGIN QUESTION -->\n",
    "\n",
    "## 6. Baseline model <a name=\"6\"></a>\n",
    "<hr>\n",
    "rubric={points:2}\n",
    "\n",
    "**Your tasks:**\n",
    "1. Try `scikit-learn`'s baseline model and report results."
   ]
  },
  {
   "cell_type": "markdown",
   "metadata": {},
   "source": [
    "<div class=\"alert alert-warning\">\n",
    "    \n",
    "Solution_6\n",
    "    \n",
    "</div>"
   ]
  },
  {
   "cell_type": "code",
   "execution_count": 21,
   "metadata": {},
   "outputs": [],
   "source": [
    "results = {}  # dictionary to store all the results"
   ]
  },
  {
   "cell_type": "code",
   "execution_count": 22,
   "metadata": {},
   "outputs": [],
   "source": [
    "def mean_std_cross_val_scores(model, X_train, y_train, **kwargs):\n",
    "    \"\"\"\n",
    "    Returns mean and std of cross validation\n",
    "\n",
    "    Parameters\n",
    "    ----------\n",
    "    model :\n",
    "        scikit-learn model\n",
    "    X_train : numpy array or pandas DataFrame\n",
    "        X in the training data\n",
    "    y_train :\n",
    "        y in the training data\n",
    "\n",
    "    Returns\n",
    "    ----------\n",
    "        pandas Series with mean scores from cross_validation\n",
    "    \"\"\"\n",
    "\n",
    "    scores = cross_validate(model, X_train, y_train, **kwargs)\n",
    "\n",
    "    mean_scores = pd.DataFrame(scores).mean()\n",
    "    std_scores = pd.DataFrame(scores).std()\n",
    "    out_col = []\n",
    "\n",
    "    for i in range(len(mean_scores)):\n",
    "        out_col.append((f\"%0.3f (+/- %0.3f)\" % (mean_scores[i], std_scores[i])))\n",
    "\n",
    "    return pd.Series(data=out_col, index=mean_scores.index)"
   ]
  },
  {
   "cell_type": "code",
   "execution_count": 23,
   "metadata": {},
   "outputs": [
    {
     "data": {
      "text/html": [
       "<div>\n",
       "<style scoped>\n",
       "    .dataframe tbody tr th:only-of-type {\n",
       "        vertical-align: middle;\n",
       "    }\n",
       "\n",
       "    .dataframe tbody tr th {\n",
       "        vertical-align: top;\n",
       "    }\n",
       "\n",
       "    .dataframe thead th {\n",
       "        text-align: right;\n",
       "    }\n",
       "</style>\n",
       "<table border=\"1\" class=\"dataframe\">\n",
       "  <thead>\n",
       "    <tr style=\"text-align: right;\">\n",
       "      <th></th>\n",
       "      <th>fit_time</th>\n",
       "      <th>score_time</th>\n",
       "      <th>test_score</th>\n",
       "      <th>train_score</th>\n",
       "    </tr>\n",
       "  </thead>\n",
       "  <tbody>\n",
       "    <tr>\n",
       "      <th>dummy</th>\n",
       "      <td>0.014 (+/- 0.001)</td>\n",
       "      <td>0.005 (+/- 0.000)</td>\n",
       "      <td>0.777 (+/- 0.000)</td>\n",
       "      <td>0.777 (+/- 0.000)</td>\n",
       "    </tr>\n",
       "  </tbody>\n",
       "</table>\n",
       "</div>"
      ],
      "text/plain": [
       "                fit_time         score_time         test_score  \\\n",
       "dummy  0.014 (+/- 0.001)  0.005 (+/- 0.000)  0.777 (+/- 0.000)   \n",
       "\n",
       "             train_score  \n",
       "dummy  0.777 (+/- 0.000)  "
      ]
     },
     "execution_count": 23,
     "metadata": {},
     "output_type": "execute_result"
    }
   ],
   "source": [
    "dummy = DummyClassifier(random_state = 123)\n",
    "\n",
    "pipe = make_pipeline(column_transformer, dummy)\n",
    "\n",
    "results[\"dummy\"] = mean_std_cross_val_scores(\n",
    "    pipe, X_train, y_train, cv=5, return_train_score=True\n",
    ")\n",
    "results_df = pd.DataFrame(results).T\n",
    "results_df"
   ]
  },
  {
   "cell_type": "markdown",
   "metadata": {},
   "source": [
    "<!-- END QUESTION -->\n",
    "\n",
    "<br><br>"
   ]
  },
  {
   "cell_type": "markdown",
   "metadata": {},
   "source": [
    "Using the baseline model - DummyClassifier - we get a mean cross validation score of `0.777`. "
   ]
  },
  {
   "cell_type": "markdown",
   "metadata": {},
   "source": [
    "<!-- BEGIN QUESTION -->\n",
    "\n",
    "## 7. Linear models <a name=\"7\"></a>\n",
    "<hr>\n",
    "rubric={points:10}\n",
    "\n",
    "**Your tasks:**\n",
    "\n",
    "1. Try a linear model as a first real attempt. \n",
    "2. Carry out hyperparameter tuning to explore different values for the complexity hyperparameter. \n",
    "3. Report cross-validation scores along with standard deviation. \n",
    "4. Summarize your results."
   ]
  },
  {
   "cell_type": "markdown",
   "metadata": {},
   "source": [
    "<div class=\"alert alert-warning\">\n",
    "    \n",
    "Solution_7\n",
    "    \n",
    "</div>"
   ]
  },
  {
   "cell_type": "markdown",
   "metadata": {
    "tags": []
   },
   "source": [
    "#### Compute Linear Model "
   ]
  },
  {
   "cell_type": "code",
   "execution_count": 24,
   "metadata": {},
   "outputs": [],
   "source": [
    "# Logistic Regression with Default Hyperparameters\n",
    "pipe = make_pipeline(column_transformer, LogisticRegression(max_iter=1000))    \n",
    "   \n",
    "results[\"Log Reg Default\"] = mean_std_cross_val_scores(\n",
    "    pipe, X_train, y_train, cv=5, return_train_score=True\n",
    ")"
   ]
  },
  {
   "cell_type": "code",
   "execution_count": 25,
   "metadata": {},
   "outputs": [
    {
     "data": {
      "text/html": [
       "<div>\n",
       "<style scoped>\n",
       "    .dataframe tbody tr th:only-of-type {\n",
       "        vertical-align: middle;\n",
       "    }\n",
       "\n",
       "    .dataframe tbody tr th {\n",
       "        vertical-align: top;\n",
       "    }\n",
       "\n",
       "    .dataframe thead th {\n",
       "        text-align: right;\n",
       "    }\n",
       "</style>\n",
       "<table border=\"1\" class=\"dataframe\">\n",
       "  <thead>\n",
       "    <tr style=\"text-align: right;\">\n",
       "      <th></th>\n",
       "      <th>fit_time</th>\n",
       "      <th>score_time</th>\n",
       "      <th>test_score</th>\n",
       "      <th>train_score</th>\n",
       "    </tr>\n",
       "  </thead>\n",
       "  <tbody>\n",
       "    <tr>\n",
       "      <th>dummy</th>\n",
       "      <td>0.014 (+/- 0.001)</td>\n",
       "      <td>0.005 (+/- 0.000)</td>\n",
       "      <td>0.777 (+/- 0.000)</td>\n",
       "      <td>0.777 (+/- 0.000)</td>\n",
       "    </tr>\n",
       "    <tr>\n",
       "      <th>Log Reg Default</th>\n",
       "      <td>0.360 (+/- 0.018)</td>\n",
       "      <td>0.006 (+/- 0.000)</td>\n",
       "      <td>0.819 (+/- 0.004)</td>\n",
       "      <td>0.821 (+/- 0.001)</td>\n",
       "    </tr>\n",
       "    <tr>\n",
       "      <th>Log Reg C = 0.00001</th>\n",
       "      <td>0.034 (+/- 0.001)</td>\n",
       "      <td>0.006 (+/- 0.000)</td>\n",
       "      <td>0.777 (+/- 0.000)</td>\n",
       "      <td>0.777 (+/- 0.000)</td>\n",
       "    </tr>\n",
       "    <tr>\n",
       "      <th>Log Reg C = 0.00010</th>\n",
       "      <td>0.033 (+/- 0.001)</td>\n",
       "      <td>0.006 (+/- 0.000)</td>\n",
       "      <td>0.777 (+/- 0.000)</td>\n",
       "      <td>0.777 (+/- 0.000)</td>\n",
       "    </tr>\n",
       "    <tr>\n",
       "      <th>Log Reg C = 0.00100</th>\n",
       "      <td>0.047 (+/- 0.002)</td>\n",
       "      <td>0.005 (+/- 0.000)</td>\n",
       "      <td>0.798 (+/- 0.003)</td>\n",
       "      <td>0.798 (+/- 0.001)</td>\n",
       "    </tr>\n",
       "    <tr>\n",
       "      <th>Log Reg C = 0.01000</th>\n",
       "      <td>0.086 (+/- 0.003)</td>\n",
       "      <td>0.006 (+/- 0.001)</td>\n",
       "      <td>0.815 (+/- 0.002)</td>\n",
       "      <td>0.816 (+/- 0.001)</td>\n",
       "    </tr>\n",
       "    <tr>\n",
       "      <th>Log Reg C = 0.10000</th>\n",
       "      <td>0.195 (+/- 0.048)</td>\n",
       "      <td>0.006 (+/- 0.001)</td>\n",
       "      <td>0.819 (+/- 0.004)</td>\n",
       "      <td>0.821 (+/- 0.001)</td>\n",
       "    </tr>\n",
       "    <tr>\n",
       "      <th>Log Reg C = 1.00000</th>\n",
       "      <td>0.379 (+/- 0.021)</td>\n",
       "      <td>0.007 (+/- 0.001)</td>\n",
       "      <td>0.819 (+/- 0.004)</td>\n",
       "      <td>0.821 (+/- 0.001)</td>\n",
       "    </tr>\n",
       "    <tr>\n",
       "      <th>Log Reg C = 10.00000</th>\n",
       "      <td>0.835 (+/- 0.061)</td>\n",
       "      <td>0.007 (+/- 0.001)</td>\n",
       "      <td>0.819 (+/- 0.004)</td>\n",
       "      <td>0.822 (+/- 0.001)</td>\n",
       "    </tr>\n",
       "    <tr>\n",
       "      <th>Log Reg C = 100.00000</th>\n",
       "      <td>1.375 (+/- 0.191)</td>\n",
       "      <td>0.008 (+/- 0.003)</td>\n",
       "      <td>0.819 (+/- 0.004)</td>\n",
       "      <td>0.822 (+/- 0.001)</td>\n",
       "    </tr>\n",
       "    <tr>\n",
       "      <th>Log Reg C = 1000.00000</th>\n",
       "      <td>1.340 (+/- 0.225)</td>\n",
       "      <td>0.006 (+/- 0.000)</td>\n",
       "      <td>0.819 (+/- 0.004)</td>\n",
       "      <td>0.822 (+/- 0.001)</td>\n",
       "    </tr>\n",
       "    <tr>\n",
       "      <th>Log Reg C = 10000.00000</th>\n",
       "      <td>1.727 (+/- 0.250)</td>\n",
       "      <td>0.007 (+/- 0.001)</td>\n",
       "      <td>0.820 (+/- 0.004)</td>\n",
       "      <td>0.822 (+/- 0.001)</td>\n",
       "    </tr>\n",
       "    <tr>\n",
       "      <th>Log Reg C = 100000.00000</th>\n",
       "      <td>1.751 (+/- 0.166)</td>\n",
       "      <td>0.006 (+/- 0.000)</td>\n",
       "      <td>0.820 (+/- 0.004)</td>\n",
       "      <td>0.822 (+/- 0.001)</td>\n",
       "    </tr>\n",
       "    <tr>\n",
       "      <th>Log Reg C = 1000000.00000</th>\n",
       "      <td>1.633 (+/- 0.335)</td>\n",
       "      <td>0.006 (+/- 0.000)</td>\n",
       "      <td>0.819 (+/- 0.004)</td>\n",
       "      <td>0.822 (+/- 0.001)</td>\n",
       "    </tr>\n",
       "    <tr>\n",
       "      <th>Log Reg C = 10000000.00000</th>\n",
       "      <td>1.408 (+/- 0.327)</td>\n",
       "      <td>0.008 (+/- 0.003)</td>\n",
       "      <td>0.819 (+/- 0.004)</td>\n",
       "      <td>0.822 (+/- 0.001)</td>\n",
       "    </tr>\n",
       "  </tbody>\n",
       "</table>\n",
       "</div>"
      ],
      "text/plain": [
       "                                     fit_time         score_time  \\\n",
       "dummy                       0.014 (+/- 0.001)  0.005 (+/- 0.000)   \n",
       "Log Reg Default             0.360 (+/- 0.018)  0.006 (+/- 0.000)   \n",
       "Log Reg C = 0.00001         0.034 (+/- 0.001)  0.006 (+/- 0.000)   \n",
       "Log Reg C = 0.00010         0.033 (+/- 0.001)  0.006 (+/- 0.000)   \n",
       "Log Reg C = 0.00100         0.047 (+/- 0.002)  0.005 (+/- 0.000)   \n",
       "Log Reg C = 0.01000         0.086 (+/- 0.003)  0.006 (+/- 0.001)   \n",
       "Log Reg C = 0.10000         0.195 (+/- 0.048)  0.006 (+/- 0.001)   \n",
       "Log Reg C = 1.00000         0.379 (+/- 0.021)  0.007 (+/- 0.001)   \n",
       "Log Reg C = 10.00000        0.835 (+/- 0.061)  0.007 (+/- 0.001)   \n",
       "Log Reg C = 100.00000       1.375 (+/- 0.191)  0.008 (+/- 0.003)   \n",
       "Log Reg C = 1000.00000      1.340 (+/- 0.225)  0.006 (+/- 0.000)   \n",
       "Log Reg C = 10000.00000     1.727 (+/- 0.250)  0.007 (+/- 0.001)   \n",
       "Log Reg C = 100000.00000    1.751 (+/- 0.166)  0.006 (+/- 0.000)   \n",
       "Log Reg C = 1000000.00000   1.633 (+/- 0.335)  0.006 (+/- 0.000)   \n",
       "Log Reg C = 10000000.00000  1.408 (+/- 0.327)  0.008 (+/- 0.003)   \n",
       "\n",
       "                                   test_score        train_score  \n",
       "dummy                       0.777 (+/- 0.000)  0.777 (+/- 0.000)  \n",
       "Log Reg Default             0.819 (+/- 0.004)  0.821 (+/- 0.001)  \n",
       "Log Reg C = 0.00001         0.777 (+/- 0.000)  0.777 (+/- 0.000)  \n",
       "Log Reg C = 0.00010         0.777 (+/- 0.000)  0.777 (+/- 0.000)  \n",
       "Log Reg C = 0.00100         0.798 (+/- 0.003)  0.798 (+/- 0.001)  \n",
       "Log Reg C = 0.01000         0.815 (+/- 0.002)  0.816 (+/- 0.001)  \n",
       "Log Reg C = 0.10000         0.819 (+/- 0.004)  0.821 (+/- 0.001)  \n",
       "Log Reg C = 1.00000         0.819 (+/- 0.004)  0.821 (+/- 0.001)  \n",
       "Log Reg C = 10.00000        0.819 (+/- 0.004)  0.822 (+/- 0.001)  \n",
       "Log Reg C = 100.00000       0.819 (+/- 0.004)  0.822 (+/- 0.001)  \n",
       "Log Reg C = 1000.00000      0.819 (+/- 0.004)  0.822 (+/- 0.001)  \n",
       "Log Reg C = 10000.00000     0.820 (+/- 0.004)  0.822 (+/- 0.001)  \n",
       "Log Reg C = 100000.00000    0.820 (+/- 0.004)  0.822 (+/- 0.001)  \n",
       "Log Reg C = 1000000.00000   0.819 (+/- 0.004)  0.822 (+/- 0.001)  \n",
       "Log Reg C = 10000000.00000  0.819 (+/- 0.004)  0.822 (+/- 0.001)  "
      ]
     },
     "execution_count": 25,
     "metadata": {},
     "output_type": "execute_result"
    }
   ],
   "source": [
    "# Hyperparameter Tuning\n",
    "C_vals = 10.0 ** np.arange(-5, 8, 1)\n",
    "\n",
    "for C in C_vals:\n",
    "    \n",
    "    pipe = make_pipeline(column_transformer, LogisticRegression(max_iter=2000, C=C))    \n",
    "    \n",
    "    results[\"Log Reg C = %0.5f\" %C] = mean_std_cross_val_scores(\n",
    "        pipe, X_train, y_train, cv=5, return_train_score=True\n",
    "    )\n",
    "\n",
    "pd.DataFrame(results).T"
   ]
  },
  {
   "cell_type": "code",
   "execution_count": 26,
   "metadata": {
    "tags": []
   },
   "outputs": [],
   "source": [
    "best_C = 10000.0"
   ]
  },
  {
   "cell_type": "markdown",
   "metadata": {
    "tags": []
   },
   "source": [
    "#### Results"
   ]
  },
  {
   "cell_type": "markdown",
   "metadata": {},
   "source": [
    "First we define a standard LogisticRegression classifier applying our transformation conducted in a prior question. Following this we attempt to optimize the complexity parameter iteratively by testing values that increase exponentially. For every iteration (hyperparameter) we compute the mean cross validation score along with some other relevant metrics. <br>\n",
    "As typical with linear models, the results in this example eventually converge at a cv score of `0.819`. However, we notice that the cross validation score peaks at `0.820` with `C = 10000.0`. For this reason, we will chose the best option for `C` to be `10000.0`. <br> \n",
    "This seems reasonable, as with too low a value for `C` the model is likely to underfit. Conversely, with too high a value for `C`, the model becomes more complex and likely to overfit. <br>\n"
   ]
  },
  {
   "cell_type": "markdown",
   "metadata": {},
   "source": [
    "<!-- END QUESTION -->\n",
    "\n",
    "<br><br>"
   ]
  },
  {
   "cell_type": "markdown",
   "metadata": {},
   "source": [
    "<!-- BEGIN QUESTION -->\n",
    "\n",
    "## 8. Different models <a name=\"8\"></a>\n",
    "<hr>\n",
    "rubric={points:12}\n",
    "\n",
    "**Your tasks:**\n",
    "1. Try at least 3 other models aside from a linear model. One of these models should be a tree-based ensemble model. \n",
    "2. Summarize your results in terms of overfitting/underfitting and fit and score times. Can you beat a linear model? "
   ]
  },
  {
   "cell_type": "markdown",
   "metadata": {},
   "source": [
    "<div class=\"alert alert-warning\">\n",
    "    \n",
    "Solution_8\n",
    "    \n",
    "</div>"
   ]
  },
  {
   "cell_type": "markdown",
   "metadata": {
    "tags": []
   },
   "source": [
    "#### Compute Models"
   ]
  },
  {
   "cell_type": "code",
   "execution_count": 27,
   "metadata": {},
   "outputs": [],
   "source": [
    "results = {}\n",
    "scoring_metric = \"accuracy\""
   ]
  },
  {
   "cell_type": "code",
   "execution_count": 28,
   "metadata": {},
   "outputs": [],
   "source": [
    "results[\"Dummy\"] = mean_std_cross_val_scores(\n",
    "    dummy, X_train, y_train, return_train_score=True, scoring=scoring_metric\n",
    ")"
   ]
  },
  {
   "cell_type": "code",
   "execution_count": 29,
   "metadata": {},
   "outputs": [],
   "source": [
    "pipe_lr = make_pipeline(column_transformer, LogisticRegression(max_iter=2000, C=best_C)) # Logistic Regression with Optimized Hyperparameter\n",
    "pipe_dt = make_pipeline(column_transformer, DecisionTreeClassifier()) # Default Decision Tree Classifier\n",
    "pipe_kNN = make_pipeline(column_transformer, KNeighborsClassifier()) # Default k-NN Classifier\n",
    "pipe_lgbm = make_pipeline(column_transformer, LGBMClassifier()) # Default LightGBM Classifier\n",
    "\n",
    "classifiers = {\n",
    "    \"Logistic Regression (optimized)\": pipe_lr,\n",
    "    \"Decision Tree\": pipe_dt,\n",
    "    \"k-NN\": pipe_kNN,\n",
    "    \"LightGBM\": pipe_lgbm,\n",
    "}"
   ]
  },
  {
   "cell_type": "code",
   "execution_count": 30,
   "metadata": {},
   "outputs": [
    {
     "data": {
      "text/html": [
       "<div>\n",
       "<style scoped>\n",
       "    .dataframe tbody tr th:only-of-type {\n",
       "        vertical-align: middle;\n",
       "    }\n",
       "\n",
       "    .dataframe tbody tr th {\n",
       "        vertical-align: top;\n",
       "    }\n",
       "\n",
       "    .dataframe thead th {\n",
       "        text-align: right;\n",
       "    }\n",
       "</style>\n",
       "<table border=\"1\" class=\"dataframe\">\n",
       "  <thead>\n",
       "    <tr style=\"text-align: right;\">\n",
       "      <th></th>\n",
       "      <th>fit_time</th>\n",
       "      <th>score_time</th>\n",
       "      <th>test_score</th>\n",
       "      <th>train_score</th>\n",
       "    </tr>\n",
       "  </thead>\n",
       "  <tbody>\n",
       "    <tr>\n",
       "      <th>Dummy</th>\n",
       "      <td>0.001 (+/- 0.000)</td>\n",
       "      <td>0.000 (+/- 0.000)</td>\n",
       "      <td>0.777 (+/- 0.000)</td>\n",
       "      <td>0.777 (+/- 0.000)</td>\n",
       "    </tr>\n",
       "    <tr>\n",
       "      <th>Logistic Regression (optimized)</th>\n",
       "      <td>1.802 (+/- 0.301)</td>\n",
       "      <td>0.010 (+/- 0.004)</td>\n",
       "      <td>0.820 (+/- 0.004)</td>\n",
       "      <td>0.822 (+/- 0.001)</td>\n",
       "    </tr>\n",
       "    <tr>\n",
       "      <th>Decision Tree</th>\n",
       "      <td>0.317 (+/- 0.021)</td>\n",
       "      <td>0.007 (+/- 0.001)</td>\n",
       "      <td>0.729 (+/- 0.006)</td>\n",
       "      <td>0.999 (+/- 0.000)</td>\n",
       "    </tr>\n",
       "    <tr>\n",
       "      <th>k-NN</th>\n",
       "      <td>0.016 (+/- 0.001)</td>\n",
       "      <td>0.300 (+/- 0.013)</td>\n",
       "      <td>0.795 (+/- 0.003)</td>\n",
       "      <td>0.843 (+/- 0.001)</td>\n",
       "    </tr>\n",
       "    <tr>\n",
       "      <th>LightGBM</th>\n",
       "      <td>0.211 (+/- 0.014)</td>\n",
       "      <td>0.012 (+/- 0.001)</td>\n",
       "      <td>0.820 (+/- 0.004)</td>\n",
       "      <td>0.853 (+/- 0.002)</td>\n",
       "    </tr>\n",
       "  </tbody>\n",
       "</table>\n",
       "</div>"
      ],
      "text/plain": [
       "                                          fit_time         score_time  \\\n",
       "Dummy                            0.001 (+/- 0.000)  0.000 (+/- 0.000)   \n",
       "Logistic Regression (optimized)  1.802 (+/- 0.301)  0.010 (+/- 0.004)   \n",
       "Decision Tree                    0.317 (+/- 0.021)  0.007 (+/- 0.001)   \n",
       "k-NN                             0.016 (+/- 0.001)  0.300 (+/- 0.013)   \n",
       "LightGBM                         0.211 (+/- 0.014)  0.012 (+/- 0.001)   \n",
       "\n",
       "                                        test_score        train_score  \n",
       "Dummy                            0.777 (+/- 0.000)  0.777 (+/- 0.000)  \n",
       "Logistic Regression (optimized)  0.820 (+/- 0.004)  0.822 (+/- 0.001)  \n",
       "Decision Tree                    0.729 (+/- 0.006)  0.999 (+/- 0.000)  \n",
       "k-NN                             0.795 (+/- 0.003)  0.843 (+/- 0.001)  \n",
       "LightGBM                         0.820 (+/- 0.004)  0.853 (+/- 0.002)  "
      ]
     },
     "execution_count": 30,
     "metadata": {},
     "output_type": "execute_result"
    }
   ],
   "source": [
    "for (name, model) in classifiers.items():\n",
    "    results[name] = mean_std_cross_val_scores(\n",
    "        model, X_train, y_train, cv=5, return_train_score=True, scoring=scoring_metric\n",
    "    )\n",
    "\n",
    "pd.DataFrame(results).T"
   ]
  },
  {
   "cell_type": "markdown",
   "metadata": {},
   "source": [
    "#### Results"
   ]
  },
  {
   "cell_type": "markdown",
   "metadata": {},
   "source": [
    "We tried 3 other models aside from the baseline and linear: Decision Tree, K-NN, and LightGBM. We conducted 5 fold validation testing on each model and stored the results in a dictionary displayed above. <br>\n",
    "From our results we found that, the tree-based ensemble model LightGBM, was the only model able to match the performance of the linear model at `0.820`. There is room to increase the complexity (and cv score) of the LightGBM model with hyperparameter tuning, but we must be careful not to overfit by doing this. Another added benefit of this model is its lightning quick fit and score times. <br>\n",
    "The nearest neighbour model (k-NN) performed okay at `0.795`. The model itself is appears to overfitting slightly, so it would be interesting to do some hyperparameter tuning to see if we can change this behaviour. Also, being a lazy learner, it takes very little time to fit, but takes a cost toll at score time.<br>\n",
    "Lasts, as typical, the decision tree classifier in its default state does a fantastic job at overfitting to the training data. With a low cv score of `0.726` and a near perfect train score, it would be worthwhile to conduct some hyperparameter tuning to decrease the complexity of the model. "
   ]
  },
  {
   "cell_type": "markdown",
   "metadata": {},
   "source": [
    "<!-- END QUESTION -->\n",
    "\n",
    "<br><br>"
   ]
  },
  {
   "cell_type": "markdown",
   "metadata": {},
   "source": [
    "<!-- BEGIN QUESTION -->\n",
    "\n",
    "## (Optional) 9. Feature selection <a name=\"9\"></a>\n",
    "<hr>\n",
    "rubric={points:2}\n",
    "\n",
    "**Your tasks:**\n",
    "\n",
    "Make some attempts to select relevant features. You may try `RFECV` or forward selection for this. Do the results improve with feature selection? Summarize your results. If you see improvements in the results, keep feature selection in your pipeline. If not, you may abandon it in the next exercises. "
   ]
  },
  {
   "cell_type": "markdown",
   "metadata": {},
   "source": [
    "<div class=\"alert alert-warning\">\n",
    "    \n",
    "Solution_9\n",
    "    \n",
    "</div>"
   ]
  },
  {
   "cell_type": "markdown",
   "metadata": {},
   "source": [
    "<!-- END QUESTION -->\n",
    "\n",
    "<br><br>"
   ]
  },
  {
   "cell_type": "markdown",
   "metadata": {},
   "source": [
    "<!-- BEGIN QUESTION -->\n",
    "\n",
    "## 10. Hyperparameter optimization <a name=\"10\"></a>\n",
    "<hr>\n",
    "rubric={points:10}\n",
    "\n",
    "**Your tasks:**\n",
    "\n",
    "Make some attempts to optimize hyperparameters for the models you've tried and summarize your results. In at least one case you should be optimizing multiple hyperparameters for a single model. You may use `sklearn`'s methods for hyperparameter optimization or fancier Bayesian optimization methods. \n",
    "  - [GridSearchCV](http://scikit-learn.org/stable/modules/generated/sklearn.model_selection.GridSearchCV.html)   \n",
    "  - [RandomizedSearchCV](http://scikit-learn.org/stable/modules/generated/sklearn.model_selection.RandomizedSearchCV.html)\n",
    "  - [scikit-optimize](https://github.com/scikit-optimize/scikit-optimize) "
   ]
  },
  {
   "cell_type": "markdown",
   "metadata": {},
   "source": [
    "<div class=\"alert alert-warning\">\n",
    "    \n",
    "Solution_10\n",
    "    \n",
    "</div>"
   ]
  },
  {
   "cell_type": "markdown",
   "metadata": {},
   "source": [
    "#### Decision Tree - max_depth "
   ]
  },
  {
   "cell_type": "code",
   "execution_count": 31,
   "metadata": {},
   "outputs": [
    {
     "name": "stdout",
     "output_type": "stream",
     "text": [
      "Best Max Depth:  3\n"
     ]
    }
   ],
   "source": [
    "depth_dict = {\n",
    "    \"depth\": [],\n",
    "    \"cv\": [],\n",
    "}\n",
    "\n",
    "depths = np.arange(1, 10, 1)\n",
    "\n",
    "for i in range(len(depths)):\n",
    "    \n",
    "    pipe = make_pipeline(column_transformer, DecisionTreeClassifier(max_depth=depths[i]))    \n",
    "    scores = cross_validate(pipe, X_train, y_train, cv=5, return_train_score=True)\n",
    "    depth_dict[\"cv\"].append(np.mean(scores[\"test_score\"]))\n",
    "    depth_dict[\"depth\"].append(depths[i])\n",
    "\n",
    "out = pd.DataFrame(depth_dict).set_index(\"depth\")\n",
    "best_max_depth = out.index.values[np.argmax(depth_dict[\"cv\"])]\n",
    "print('Best Max Depth: ', best_max_depth)"
   ]
  },
  {
   "cell_type": "markdown",
   "metadata": {
    "tags": []
   },
   "source": [
    "#### LightGBM - n_estimators, learning rate, num leaves"
   ]
  },
  {
   "cell_type": "code",
   "execution_count": 32,
   "metadata": {},
   "outputs": [
    {
     "name": "stdout",
     "output_type": "stream",
     "text": [
      "Best N Estimators:  63\n",
      "Best Learning Rate:  0.1\n",
      "Best Num Leaves:  92\n"
     ]
    }
   ],
   "source": [
    "pipe_svm = make_pipeline(column_transformer, LGBMClassifier())\n",
    "\n",
    "param_grid = {\n",
    "    \"lgbmclassifier__n_estimators\": np.arange(60, 100, 3),\n",
    "    \"lgbmclassifier__learning_rate\": 10.0 ** np.arange(-4, 1, 1),\n",
    "    \"lgbmclassifier__num_leaves\": np.arange(80, 120, 3),\n",
    "}\n",
    "\n",
    "random_search = RandomizedSearchCV(\n",
    "    pipe_svm, param_distributions=param_grid, n_jobs=-1, n_iter=300, cv=5\n",
    ")\n",
    "\n",
    "random_search.fit(X_train, y_train)\n",
    "\n",
    "best_n_estimators = random_search.best_params_[\"lgbmclassifier__n_estimators\"]\n",
    "best_learning_rate = random_search.best_params_[\"lgbmclassifier__learning_rate\"]\n",
    "best_num_leaves = random_search.best_params_[\"lgbmclassifier__num_leaves\"]\n",
    "print('Best N Estimators: ', best_n_estimators)\n",
    "print('Best Learning Rate: ', best_learning_rate)\n",
    "print('Best Num Leaves: ', best_num_leaves)"
   ]
  },
  {
   "cell_type": "markdown",
   "metadata": {
    "tags": []
   },
   "source": [
    "#### k-Nearest Neighbors - neighbors"
   ]
  },
  {
   "cell_type": "code",
   "execution_count": null,
   "metadata": {},
   "outputs": [],
   "source": [
    "knn_dict = {\n",
    "    \"n_neighbors\": [],\n",
    "    \"cv\": [],\n",
    "}\n",
    "\n",
    "neighbors = np.arange(1, 50, 5)\n",
    "\n",
    "for i in range(len(neighbors)):\n",
    "    \n",
    "    pipe = make_pipeline(column_transformer, KNeighborsClassifier(n_neighbors=neighbors[i]))    \n",
    "    scores = cross_validate(pipe, X_train, y_train, cv=5, return_train_score=True)\n",
    "    knn_dict[\"cv\"].append(np.mean(scores[\"test_score\"]))\n",
    "    knn_dict[\"n_neighbors\"].append(neighbors[i])\n",
    "\n",
    "out = pd.DataFrame(knn_dict).set_index(\"n_neighbors\")\n",
    "best_n_neighbors = out.index.values[np.argmax(knn_dict[\"cv\"])]\n",
    "print('Best N Neighbors: ', best_n_neighbors)"
   ]
  },
  {
   "cell_type": "markdown",
   "metadata": {},
   "source": [
    "#### Tuned Scores"
   ]
  },
  {
   "cell_type": "code",
   "execution_count": null,
   "metadata": {},
   "outputs": [],
   "source": [
    "pipe_dt = make_pipeline(column_transformer, DecisionTreeClassifier(max_depth=best_max_depth)) # Decision Tree Classifier with Optimized Hyperparameter\n",
    "pipe_kNN = make_pipeline(column_transformer, KNeighborsClassifier(n_neighbors=best_n_neighbors)) # k-NN Classifier with Optimized Hyperparameter\n",
    "pipe_lgbm = make_pipeline(column_transformer, LGBMClassifier(\n",
    "    n_estimators=best_n_estimators, \n",
    "    learning_rate=best_learning_rate, \n",
    "    num_leaves=best_num_leaves, \n",
    ")) # LightGBM Classifier with Optimized Hyperparameters\n",
    " \n",
    "classifiers = {\n",
    "    \"Decision Tree (optimized)\": pipe_dt,\n",
    "    \"k-NN (optimized)\": pipe_kNN,\n",
    "    \"LightGBM (optimized)\": pipe_lgbm,\n",
    "}\n",
    "\n",
    "for (name, model) in classifiers.items():\n",
    "    results[name] = mean_std_cross_val_scores(\n",
    "        model, X_train, y_train, cv = 5, return_train_score=True, scoring=scoring_metric\n",
    "    )\n",
    "\n",
    "pd.DataFrame(results).T"
   ]
  },
  {
   "cell_type": "markdown",
   "metadata": {},
   "source": [
    "<!-- END QUESTION -->\n",
    "\n",
    "<br><br>"
   ]
  },
  {
   "cell_type": "markdown",
   "metadata": {},
   "source": [
    "<!-- BEGIN QUESTION -->\n",
    "\n",
    "## 11. Interpretation and feature importances <a name=\"1\"></a>\n",
    "<hr>\n",
    "rubric={points:10}\n",
    "\n",
    "**Your tasks:**\n",
    "\n",
    "1. Use the methods we saw in class (e.g., `eli5`, `shap`) (or any other methods of your choice) to examine the most important features of one of the non-linear models. \n",
    "2. Summarize your observations. "
   ]
  },
  {
   "cell_type": "markdown",
   "metadata": {},
   "source": [
    "<div class=\"alert alert-warning\">\n",
    "    \n",
    "Solution_11\n",
    "    \n",
    "</div>"
   ]
  },
  {
   "cell_type": "markdown",
   "metadata": {},
   "source": [
    "#### Examining Features"
   ]
  },
  {
   "cell_type": "code",
   "execution_count": null,
   "metadata": {},
   "outputs": [],
   "source": [
    "#Use pipe_lgbm classifier with optimized hyperparamaters from above and examine feature importances using eli5.\n",
    "\n",
    "import eli5\n",
    "\n",
    "ohe_feats = (\n",
    "    column_transformer.named_transformers_[\"onehotencoder-2\"]\n",
    "    .get_feature_names_out(\n",
    ").tolist())\n",
    "\n",
    "feature_names = numeric_feats + binary_feats + ordinal_feats + ohe_feats\n",
    "\n",
    "#Fit pipe_lgbm\n",
    "pipe_lgbm.fit(X_train, y_train)\n",
    "\n",
    "eli5.explain_weights(pipe_lgbm.named_steps[\"lgbmclassifier\"], feature_names=feature_names)"
   ]
  },
  {
   "cell_type": "markdown",
   "metadata": {},
   "source": [
    "The eli5 analysis shows that the 5 most heavily weighted features are PAY_1_2, PAY_2_2, PAY_AMT2, BILL_AMT1 and LIMIT_BAL. It would make sense that PAY_1_2 and PAY_2_2 are good features, because if a client has a payment delay of 2 months in the earlier part of the dataset (the first two months tracked by our data), then it is likely they will only continue to accrue debt. This is also probably why the PAY_AMT and BILL_AMT features that are heavily weighted by the eli5 analysis are for the second month and the first month respectively, and months that appear later in the dataset are weighted less heavily, since you can already gain a lot of predictive power by observing spending and repayment habits during the first 2 months tracked by the data set. It also makes sense that LIMIT_BAL is a top 5 feature since the initial limits on a client's credit balance is probably a good indicator of the risk the bank perceives in the client (people with smaller limits are perceived as riskier by banks). It's also worth noting that the weight of the PAY_1_2 feature vastly outweighs subsequent features, with a weight nearly 4x as great as the second most important feature labeled by the eli5 analysis."
   ]
  },
  {
   "cell_type": "code",
   "execution_count": null,
   "metadata": {},
   "outputs": [],
   "source": [
    "#Use pipe_lgbm classifier with optimized hyperparamaters from above and examine feature importances using shap.\n",
    "\n",
    "import shap\n",
    "\n",
    "# first we need to create train and test dataframes with the transformed features\n",
    "X_train_enc = pd.DataFrame(\n",
    "    data=column_transformer.transform(X_train),\n",
    "    columns=feature_names,\n",
    "    index=X_train.index,\n",
    ")\n",
    "\n",
    "X_test_enc = pd.DataFrame(\n",
    "    data=column_transformer.transform(X_test),\n",
    "    columns=feature_names,\n",
    "    index=X_test.index,\n",
    ")\n",
    "\n",
    "# run shap explainer on training data\n",
    "lgbm_explainer = shap.TreeExplainer(pipe_lgbm.named_steps[\"lgbmclassifier\"])\n",
    "train_lgbm_shap_values = lgbm_explainer.shap_values(X_train_enc)\n",
    "\n",
    "# observe global feature importances by looking at average SHAP values associated with top 10 features\n",
    "values = np.abs(train_lgbm_shap_values[1]).mean(\n",
    "    0\n",
    ")  # mean of shapely values in each column\n",
    "pd.DataFrame(data=values, index=feature_names, columns=[\"SHAP\"]).sort_values(\n",
    "    by=\"SHAP\", ascending=False\n",
    ")[:10]"
   ]
  },
  {
   "cell_type": "code",
   "execution_count": null,
   "metadata": {},
   "outputs": [],
   "source": [
    "# we can also visualize this information, like in lecture 12\n",
    "shap.summary_plot(train_lgbm_shap_values[1], X_train_enc, plot_type=\"bar\")"
   ]
  },
  {
   "cell_type": "markdown",
   "metadata": {},
   "source": [
    "The global SHAP analysis seems to concur with many aspects of the eli5 analysis, although the order of the feature importances is slightly different. It still thinks PAY_1_2 is the most important feature like our eli5 analysis did above, and it still far outpaces the other feature weights (this is even more plain to see through our visualization above). The SHAP analysis rates the LIMIT_BAL feature more heavily than the eli5 analysis did, but overall the top 5 features in the eli5 analysis is also in the top 10 features of the SHAP analysis, suggesting these are really the features that our LGBM classifier thinks are the most importance for producing our results.\n"
   ]
  },
  {
   "cell_type": "markdown",
   "metadata": {},
   "source": [
    "#### Summarizing Observations"
   ]
  },
  {
   "cell_type": "markdown",
   "metadata": {},
   "source": [
    "By using both eli5 and a global feature importance analysis using SHAP we can see that both analyses agree that the PAY_1_2 column is the most important feature of our LGBM model for making predictions. This intuitively makes some sense, because if a client is already 2 months delayed on their payments in the first month of the data, it is likely that they will continue to accrue debt. However, this might be an anomaly for the client who usually pays their credit card off on time, which is why the Pay_2_2 feature is also important to look at, and rated highly by both the eli5 and SHAP analysis (2nd most and 4th most heavily weighted feature, respectively). The LIMIT_BAL feature is also highly related by both analyses (5th most and 2nd most heavily weight feature), likely because the limits on how much a credit a client can take out is a good predictor of whether they will go into default."
   ]
  },
  {
   "cell_type": "markdown",
   "metadata": {},
   "source": [
    "<!-- END QUESTION -->\n",
    "\n",
    "<br><br>"
   ]
  },
  {
   "cell_type": "markdown",
   "metadata": {
    "tags": []
   },
   "source": [
    "<!-- BEGIN QUESTION -->\n",
    "\n",
    "## 12. Results on the test set <a name=\"12\"></a>\n",
    "<hr>\n",
    "\n",
    "rubric={points:10}\n",
    "\n",
    "**Your tasks:**\n",
    "\n",
    "1. Try your best performing model on the test data and report test scores. \n",
    "2. Do the test scores agree with the validation scores from before? To what extent do you trust your results? Do you think you've had issues with optimization bias? \n",
    "3. Take one or two test predictions and explain these individual predictions (e.g., with SHAP force plots).  "
   ]
  },
  {
   "cell_type": "markdown",
   "metadata": {},
   "source": [
    "<div class=\"alert alert-warning\">\n",
    "    \n",
    "Solution_12\n",
    "    \n",
    "</div>"
   ]
  },
  {
   "cell_type": "markdown",
   "metadata": {},
   "source": [
    "_Type your answer here, replacing this text._"
   ]
  },
  {
   "cell_type": "markdown",
   "metadata": {},
   "source": [
    "#### Scoring our Best Performing Model"
   ]
  },
  {
   "cell_type": "code",
   "execution_count": null,
   "metadata": {},
   "outputs": [],
   "source": [
    "#Fit and score pipe_lr\n",
    "pipe_lr.fit(X_train, y_train)\n",
    "pipe_lr.score(X_test,y_test)\n",
    "\n",
    "#Look at recall metric to assess performance of the model\n",
    "from sklearn.metrics import classification_report \n",
    "report = print(classification_report(\n",
    "        y_test, pipe_lr.predict(X_test), target_names=[\"pay duly\", \"default\"]\n",
    "    ))\n",
    "report"
   ]
  },
  {
   "cell_type": "markdown",
   "metadata": {},
   "source": [
    "             "
   ]
  },
  {
   "cell_type": "markdown",
   "metadata": {},
   "source": [
    "Our best performing model, Logistic Regression Classifier, leads to an accuracy of `0.8196`  on test data. According to the classification report, our model performs with a recall of `0.95`, which we identified previously as the best metric for our problem. \n",
    "\n",
    "In comparison to our validation scores in question 8, our test_score for our cross validation data for Logistic Regression optimized is `0.82` and our test_score on the test data is also around `0.82` i.e., they are in agreement. This shows that our model is consistent and generalizes well to unseen data, which makes it trustworthy."
   ]
  },
  {
   "cell_type": "markdown",
   "metadata": {},
   "source": [
    "#### Optimization Bias?"
   ]
  },
  {
   "cell_type": "markdown",
   "metadata": {},
   "source": [
    "Our model minimizes optimization bias because of the large dataset we used. Because of this large data, as well as the consistency and generalizability across our test scores, we don't think our model is prone to overfitting or optimization bias. "
   ]
  },
  {
   "cell_type": "markdown",
   "metadata": {},
   "source": [
    "#### Test Prediction Explainations"
   ]
  },
  {
   "cell_type": "code",
   "execution_count": null,
   "metadata": {},
   "outputs": [],
   "source": [
    "# first we need to create a test dataframe with the transformed features\n",
    "X_test_enc = pd.DataFrame(\n",
    "    data=column_transformer.transform(X_test),\n",
    "    columns=feature_names,\n",
    "    index=X_test.index,\n",
    ")\n",
    "\n",
    "test_lgbm_shap_values = lgbm_explainer.shap_values(X_test_enc)\n",
    "\n",
    "# Find a random index of a test example where the client defaulted (1) and where the client did not default (0)\n",
    "y_test_reset = y_test.reset_index(drop=True)\n",
    "y_test_reset\n",
    "\n",
    "default_ind = y_test_reset[y_test_reset == 1].index.tolist()\n",
    "no_default_ind = y_test_reset[y_test_reset == 0].index.tolist()\n",
    "\n",
    "ex_default_index = default_ind[10]\n",
    "ex_no_default_index = no_default_ind[10]\n",
    "\n",
    "print(pipe_lgbm.named_steps[\"lgbmclassifier\"].classes_)\n",
    "print(lgbm_explainer.expected_value[0])  # on average this is the raw score for the no default class\n",
    "print(lgbm_explainer.expected_value[1]) # on average this is the raw score for the default class"
   ]
  },
  {
   "cell_type": "markdown",
   "metadata": {},
   "source": [
    "#### Example with prediction that the client will default"
   ]
  },
  {
   "cell_type": "code",
   "execution_count": null,
   "metadata": {},
   "outputs": [],
   "source": [
    "print(pipe_lgbm.named_steps[\"lgbmclassifier\"].predict_proba(X_test_enc)[ex_default_index])\n",
    "print(pipe_lgbm.named_steps[\"lgbmclassifier\"].predict(X_test_enc, raw_score=True)[ex_default_index])\n",
    "\n",
    "X_test_enc = round(X_test_enc, 3)  # for better visualization\n",
    "shap.force_plot(\n",
    "    lgbm_explainer.expected_value[1],\n",
    "    test_lgbm_shap_values[1][ex_default_index, :],\n",
    "    X_test_enc.iloc[ex_default_index, :],\n",
    "    matplotlib=True,\n",
    ")"
   ]
  },
  {
   "cell_type": "markdown",
   "metadata": {},
   "source": [
    "Based on the SHAP force plot above, we see that the raw model score is much higher than the base value, which is reflected in the prediction of the default class. The features PAY_1_2, PAY_2_2 and PAY_1_0 are pushing the prediction towards a higher score, which aligns with our global SHAP analysis on the training data. Clients with a value of 1.0 for the PAY_1_2 and PAY_2_2 features are much more likely to be predicted to be in default, which is what our SHAP force plot analysis shows."
   ]
  },
  {
   "cell_type": "markdown",
   "metadata": {},
   "source": [
    "#### Example with client that will not default"
   ]
  },
  {
   "cell_type": "code",
   "execution_count": null,
   "metadata": {},
   "outputs": [],
   "source": [
    "print(pipe_lgbm.named_steps[\"lgbmclassifier\"].predict_proba(X_test_enc)[ex_no_default_index])\n",
    "print(pipe_lgbm.named_steps[\"lgbmclassifier\"].predict(X_test_enc, raw_score=True)[ex_no_default_index])\n",
    "\n",
    "X_test_enc = round(X_test_enc, 3)  # for better visualization\n",
    "shap.force_plot(\n",
    "    lgbm_explainer.expected_value[1],\n",
    "    test_lgbm_shap_values[1][ex_no_default_index, :],\n",
    "    X_test_enc.iloc[ex_no_default_index, :],\n",
    "    matplotlib=True,\n",
    ")"
   ]
  },
  {
   "cell_type": "markdown",
   "metadata": {},
   "source": [
    "The values above are with respect to the default class (class 1), we can see that our value is way below the base value, so we are unlikely to predict this example to be a case where the client defaults (as predict_proba also agrees with). We see this client has several features including BILL_AMT1, a 0.0 value for PAY_1_2 (compare this with the SHAP force plot for the client who defaults above), and BILL_AMT2 that contribute to pushing the value down from the base value for predicting the default class (shown in blue). Overall, pushing the prediction down (in blue)"
   ]
  },
  {
   "cell_type": "markdown",
   "metadata": {},
   "source": [
    "<!-- END QUESTION -->\n",
    "\n",
    "<br><br>"
   ]
  },
  {
   "cell_type": "markdown",
   "metadata": {},
   "source": [
    "<!-- BEGIN QUESTION -->\n",
    "\n",
    "## 13. Summary of results <a name=\"13\"></a>\n",
    "<hr>\n",
    "rubric={points:12}\n",
    "\n",
    "Imagine that you want to present the summary of these results to your boss and co-workers. \n",
    "\n",
    "**Your tasks:**\n",
    "\n",
    "1. Create a table summarizing important results. \n",
    "2. Write concluding remarks.\n",
    "3. Discuss other ideas that you did not try but could potentially improve the performance/interpretability . \n",
    "3. Report your final test score along with the metric you used at the top of this notebook in the [Submission instructions section](#si)."
   ]
  },
  {
   "cell_type": "markdown",
   "metadata": {},
   "source": [
    "<div class=\"alert alert-warning\">\n",
    "    \n",
    "Solution_13\n",
    "    \n",
    "</div>"
   ]
  },
  {
   "cell_type": "markdown",
   "metadata": {},
   "source": [
    "#### Summary Table"
   ]
  },
  {
   "cell_type": "markdown",
   "metadata": {},
   "source": [
    "|Important Finding  | Result  |\n",
    "|------------------ | -------|\n",
    "|Best performing model| Logistic Regression Optimized Model  |\n",
    "|Test score on cross-validation data for Logistic Regression Optimized Model (Accuracy)| 0.82 |\n",
    "|Test score on unseen data for Logistic Regression Optimized Model (Accuracy)| 0.82|\n",
    "|Recall of model on test data | 0.95 |\n",
    "|Feature with highest weight | PAY_1_2|\n",
    "|Mean SHAP score of PAY_1_2 | 0.34 |"
   ]
  },
  {
   "cell_type": "markdown",
   "metadata": {},
   "source": [
    "#### Concluding Remarks"
   ]
  },
  {
   "cell_type": "markdown",
   "metadata": {},
   "source": [
    "Overall, we are really happy with our model and its performance. We succeeded in obtaining a 95% recall, and creating a robust model that generalizes to unseen data with consistent test scores, which in our case is 0.82. "
   ]
  },
  {
   "cell_type": "markdown",
   "metadata": {},
   "source": [
    "#### Improvements"
   ]
  },
  {
   "cell_type": "markdown",
   "metadata": {},
   "source": [
    "We think better feature engineering and feature selection would improve the performance of our model. Some features might be correlated in some way, and the presence of one feature might affect the effectiveness of another. Therefore, it is important to eliminate features that we think our trivial to our problem, and make sure we include the features that are most predictive and that will most likely enhance our model's performance.\n",
    "\n",
    "Although we believe our model did well in minimizing optimization bias, having an even larger dataset or multiple various datasets to test our model on would always be beneficial in further minimizing chances of bias.\n",
    "\n",
    "Additionally, if we had the time and resources, it would be beneficial to rerun our entire pipeline on different datasets to assess the quality of the data and how it affects our model itself. However, this process takes more time but would be a great insight into our feature engineering and how data can affect it.\n"
   ]
  },
  {
   "cell_type": "markdown",
   "metadata": {},
   "source": [
    "<br><br>"
   ]
  },
  {
   "cell_type": "markdown",
   "metadata": {},
   "source": [
    "<!-- BEGIN QUESTION -->\n",
    "\n",
    "## (Optional) 14. Your takeaway <a name=\"15\"></a>\n",
    "<hr>\n",
    "rubric={points:2}\n",
    "\n",
    "**Your tasks:**\n",
    "\n",
    "What is your biggest takeaway from the supervised machine learning material we have learned so far? Please write thoughtful answers.  "
   ]
  },
  {
   "cell_type": "markdown",
   "metadata": {},
   "source": [
    "<div class=\"alert alert-warning\">\n",
    "    \n",
    "Solution_14\n",
    "    \n",
    "</div>"
   ]
  },
  {
   "cell_type": "markdown",
   "metadata": {},
   "source": [
    "In general, our group had two major takeaways to the supervised learning material we have covered so far in CPSC 330:\n",
    "\n",
    "1) Ensemble methods do seem to be the most robust models for classification problems. Perhaps the element of randomness in ensemble methods far surpasses anything we can hope to teach our models by only applying a specific model to datasets.\n",
    "2) Interpretability of machine learning models is a very difficult problem, as we explored through our eli5 and SHAP force plot analyses. Even if we build a good supervised machine learning model, people won't be likely to trust it if we cannot explain how our model made certain predictions (especially for something as important as for example predicting credit card defaults, which might affect how a bank decides to lend credit to a particular client). The ethics of such decisions is something not to be taken lightly by just writing code."
   ]
  },
  {
   "cell_type": "markdown",
   "metadata": {},
   "source": [
    "<!-- END QUESTION -->\n",
    "\n",
    "<br><br>"
   ]
  },
  {
   "cell_type": "markdown",
   "metadata": {},
   "source": [
    "**PLEASE READ BEFORE YOU SUBMIT:** \n",
    "\n",
    "When you are ready to submit your assignment do the following:\n",
    "\n",
    "1. Run all cells in your notebook to make sure there are no errors by doing `Kernel -> Restart Kernel and Clear All Outputs` and then `Run -> Run All Cells`. \n",
    "2. Notebooks with cell execution numbers out of order or not starting from \"1\" will have marks deducted. Notebooks without the output displayed may not be graded at all (because we need to see the output in order to grade your work).\n",
    "4. Upload the assignment using Gradescope's drag and drop tool. Check out this [Gradescope Student Guide](https://lthub.ubc.ca/guides/gradescope-student-guide/) if you need help with Gradescope submission. \n",
    "5. Make sure that the plots and output are rendered properly in your submitted file. If the .ipynb file is too big and doesn't render on Gradescope, also upload a pdf or html in addition to the .ipynb so that the TAs can view your submission on Gradescope. "
   ]
  },
  {
   "cell_type": "markdown",
   "metadata": {},
   "source": [
    "Congratulations on finishing this project. This was a tricky one but you did it!"
   ]
  },
  {
   "cell_type": "code",
   "execution_count": null,
   "metadata": {},
   "outputs": [],
   "source": [
    "from IPython.display import Image\n",
    "\n",
    "Image(\"img/eva-well-done.png\")"
   ]
  }
 ],
 "metadata": {
  "kernelspec": {
   "display_name": "Python [conda env:cpsc330] *",
   "language": "python",
   "name": "conda-env-cpsc330-py"
  },
  "language_info": {
   "codemirror_mode": {
    "name": "ipython",
    "version": 3
   },
   "file_extension": ".py",
   "mimetype": "text/x-python",
   "name": "python",
   "nbconvert_exporter": "python",
   "pygments_lexer": "ipython3",
   "version": "3.10.6"
  },
  "otter": {
   "OK_FORMAT": true,
   "tests": {}
  }
 },
 "nbformat": 4,
 "nbformat_minor": 4
}
